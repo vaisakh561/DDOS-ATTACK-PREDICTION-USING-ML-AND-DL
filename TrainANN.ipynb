{
 "cells": [
  {
   "cell_type": "code",
   "execution_count": 1,
   "metadata": {},
   "outputs": [
    {
     "name": "stderr",
     "output_type": "stream",
     "text": [
      "C:\\Users\\abc\\Anaconda3\\lib\\site-packages\\h5py\\__init__.py:72: UserWarning: h5py is running against HDF5 1.10.2 when it was built against 1.10.3, this may cause problems\n",
      "  '{0}.{1}.{2}'.format(*version.hdf5_built_version_tuple)\n",
      "Using TensorFlow backend.\n"
     ]
    }
   ],
   "source": [
    "import re\n",
    "import os\n",
    "import h5py\n",
    "import itertools\n",
    "import warnings\n",
    "warnings.filterwarnings('ignore')\n",
    "import pandas as pd\n",
    "import numpy as np\n",
    "%matplotlib inline\n",
    "import matplotlib.pyplot as plt\n",
    "import seaborn as sns\n",
    "from keras import models\n",
    "from keras.utils import to_categorical\n",
    "from keras.layers import Dense, Dropout\n",
    "from keras import optimizers\n",
    "from keras import losses \n",
    "from keras import metrics\n",
    "from keras.models import Sequential\n",
    "from sklearn.utils import shuffle\n",
    "from sklearn.preprocessing import StandardScaler\n",
    "from sklearn.metrics import confusion_matrix\n",
    "from sklearn.model_selection import train_test_split\n",
    "from sklearn.metrics import classification_report\n",
    "from sklearn.metrics import accuracy_score\n",
    "from sklearn.metrics import confusion_matrix"
   ]
  },
  {
   "cell_type": "code",
   "execution_count": 2,
   "metadata": {},
   "outputs": [],
   "source": [
    "in_dir = 'input'\n",
    "out_dir = 'processed'\n",
    "model_dir = 'model'"
   ]
  },
  {
   "cell_type": "code",
   "execution_count": 3,
   "metadata": {},
   "outputs": [
    {
     "name": "stdout",
     "output_type": "stream",
     "text": [
      "List of files and directories :  ['data.csv']\n"
     ]
    }
   ],
   "source": [
    "file_name = 'data.csv'\n",
    "cleaned_fname =  'cdata.csv'\n",
    "train_fname = 'train.csv'\n",
    "test_fname = 'test.csv'\n",
    "model_str_fname = 'model_structure.json'\n",
    "model_weight_fname = 'model_weights.h5'\n",
    "\n",
    "print('List of files and directories : ',os.listdir(in_dir))"
   ]
  },
  {
   "cell_type": "code",
   "execution_count": 4,
   "metadata": {},
   "outputs": [],
   "source": [
    "input_file_path = os.path.join(in_dir,file_name)\n",
    "cleaned_file_path = os.path.join(out_dir,cleaned_fname)\n",
    "train_file_path = os.path.join(out_dir,train_fname)\n",
    "test_file_path = os.path.join(out_dir,test_fname)\n",
    "model_str_path = os.path.join(model_dir,model_str_fname)\n",
    "model_weight_path = os.path.join(model_dir,model_weight_fname)"
   ]
  },
  {
   "cell_type": "code",
   "execution_count": 5,
   "metadata": {},
   "outputs": [
    {
     "name": "stdout",
     "output_type": "stream",
     "text": [
      "Input data path :  input\\data.csv \n",
      "Clean data path :  processed\\cdata.csv \n",
      "Train-set path :  processed\\train.csv \n",
      "Test-set path :  processed\\test.csv \n",
      "Model Structure path :  model\\model_structure.json \n",
      "Model Weights path :  model\\model_weights.h5\n"
     ]
    }
   ],
   "source": [
    "print('Input data path : ',input_file_path,\n",
    "      '\\nClean data path : ',cleaned_file_path,\n",
    "      '\\nTrain-set path : ', train_file_path,\n",
    "      '\\nTest-set path : ', test_file_path,\n",
    "      '\\nModel Structure path : ', model_str_path,\n",
    "      '\\nModel Weights path : ', model_weight_path)"
   ]
  },
  {
   "cell_type": "code",
   "execution_count": 6,
   "metadata": {},
   "outputs": [],
   "source": [
    "df_data = pd.read_csv(input_file_path)"
   ]
  },
  {
   "cell_type": "code",
   "execution_count": 7,
   "metadata": {},
   "outputs": [],
   "source": [
    "df_data = shuffle(df_data)"
   ]
  },
  {
   "cell_type": "code",
   "execution_count": 8,
   "metadata": {},
   "outputs": [
    {
     "data": {
      "text/plain": [
       "(692703, 79)"
      ]
     },
     "execution_count": 8,
     "metadata": {},
     "output_type": "execute_result"
    }
   ],
   "source": [
    "df_data.shape"
   ]
  },
  {
   "cell_type": "code",
   "execution_count": 9,
   "metadata": {},
   "outputs": [
    {
     "name": "stdout",
     "output_type": "stream",
     "text": [
      "<class 'pandas.core.frame.DataFrame'>\n",
      "Int64Index: 692703 entries, 672569 to 441755\n",
      "Data columns (total 79 columns):\n",
      "Destination_Port               692703 non-null int64\n",
      "Flow_Duration                  692703 non-null int64\n",
      "Total_Fwd_Packets              692703 non-null int64\n",
      "Total_Backward_Packets         692703 non-null int64\n",
      "Total_Length_of_Fwd_Packets    692703 non-null int64\n",
      "Total_Length_of_Bwd_Packets    692703 non-null int64\n",
      "Fwd_Packet_Length_Max          692703 non-null int64\n",
      "Fwd_Packet_Length_Min          692703 non-null int64\n",
      "Fwd_Packet_Length_Mean         692703 non-null float64\n",
      "Fwd_Packet_Length_Std          692703 non-null float64\n",
      "Bwd_Packet_Length_Max          692703 non-null int64\n",
      "Bwd_Packet_Length_Min          692703 non-null int64\n",
      "Bwd_Packet_Length_Mean         692703 non-null float64\n",
      "Bwd_Packet_Length_Std          692703 non-null float64\n",
      "Flow_Bytes_Per_Sec             691695 non-null object\n",
      "Flow_Packets_Per_Sec           692703 non-null object\n",
      "Flow_IAT_Mean                  692703 non-null float64\n",
      "Flow_IAT_Std                   692703 non-null float64\n",
      "Flow_IAT_Max                   692703 non-null int64\n",
      "Flow_IAT_Min                   692703 non-null int64\n",
      "Fwd_IAT_Total                  692703 non-null int64\n",
      "Fwd_IAT_Mean                   692703 non-null float64\n",
      "Fwd_IAT_Std                    692703 non-null float64\n",
      "Fwd_IAT_Max                    692703 non-null int64\n",
      "Fwd_IAT_Min                    692703 non-null int64\n",
      "Bwd_IAT_Total                  692703 non-null int64\n",
      "Bwd_IAT_Mean                   692703 non-null float64\n",
      "Bwd_IAT_Std                    692703 non-null float64\n",
      "Bwd_IAT_Max                    692703 non-null int64\n",
      "Bwd_IAT_Min                    692703 non-null int64\n",
      "Fwd_PSH_Flags                  692703 non-null int64\n",
      "Bwd_PSH_Flags                  692703 non-null int64\n",
      "Fwd_URG_Flags                  692703 non-null int64\n",
      "Bwd_URG_Flags                  692703 non-null int64\n",
      "Fwd_Header_Length              692703 non-null int64\n",
      "Bwd_Header_Length              692703 non-null int64\n",
      "Fwd_Packets_s                  692703 non-null float64\n",
      "Bwd_Packets_s                  692703 non-null float64\n",
      "Min_Packet_Length              692703 non-null int64\n",
      "Max_Packet_Length              692703 non-null int64\n",
      "Packet_Length_Mean             692703 non-null float64\n",
      "Packet_Length_Std              692703 non-null float64\n",
      "Packet_Length_Variance         692703 non-null float64\n",
      "FIN_Flag_Count                 692703 non-null int64\n",
      "SYN_Flag_Count                 692703 non-null int64\n",
      "RST_Flag_Count                 692703 non-null int64\n",
      "PSH_Flag_Count                 692703 non-null int64\n",
      "ACK_Flag_Count                 692703 non-null int64\n",
      "URG_Flag_Count                 692703 non-null int64\n",
      "CWE_Flag_Count                 692703 non-null int64\n",
      "ECE_Flag_Count                 692703 non-null int64\n",
      "Down_Up_Ratio                  692703 non-null int64\n",
      "Average_Packet_Size            692703 non-null float64\n",
      "Avg_Fwd_Segment_Size           692703 non-null float64\n",
      "Avg_Bwd_Segment_Size           692703 non-null float64\n",
      "Fwd_Header_Length.1            692703 non-null int64\n",
      "Fwd_Avg_Bytes_Bulk             692703 non-null int64\n",
      "Fwd_Avg_Packets_Bulk           692703 non-null int64\n",
      "Fwd_Avg_Bulk_Rate              692703 non-null int64\n",
      "Bwd_Avg_Bytes_Bulk             692703 non-null int64\n",
      "Bwd_Avg_Packets_Bulk           692703 non-null int64\n",
      "Bwd_Avg_Bulk_Rate              692703 non-null int64\n",
      "Subflow_Fwd_Packets            692703 non-null int64\n",
      "Subflow_Fwd_Bytes              692703 non-null int64\n",
      "Subflow_Bwd_Packets            692703 non-null int64\n",
      "Subflow_Bwd_Bytes              692703 non-null int64\n",
      "Init_Win_bytes_forward         692703 non-null int64\n",
      "Init_Win_bytes_backward        692703 non-null int64\n",
      "act_data_pkt_fwd               692703 non-null int64\n",
      "min_seg_size_forward           692703 non-null int64\n",
      "Active_Mean                    692703 non-null float64\n",
      "Active_Std                     692703 non-null float64\n",
      "Active_Max                     692703 non-null int64\n",
      "Active_Min                     692703 non-null int64\n",
      "Idle_Mean                      692703 non-null float64\n",
      "Idle_Std                       692703 non-null float64\n",
      "Idle_Max                       692703 non-null int64\n",
      "Idle_Min                       692703 non-null int64\n",
      "Label                          692703 non-null object\n",
      "dtypes: float64(22), int64(54), object(3)\n",
      "memory usage: 422.8+ MB\n"
     ]
    }
   ],
   "source": [
    "df_data.info()"
   ]
  },
  {
   "cell_type": "code",
   "execution_count": 10,
   "metadata": {},
   "outputs": [
    {
     "data": {
      "text/plain": [
       "BENIGN              440031\n",
       "DoS Hulk            231073\n",
       "DoS GoldenEye        10293\n",
       "DoS slowloris         5796\n",
       "DoS Slowhttptest      5499\n",
       "Heartbleed              11\n",
       "Name: Label, dtype: int64"
      ]
     },
     "execution_count": 10,
     "metadata": {},
     "output_type": "execute_result"
    }
   ],
   "source": [
    "df_data.Label.value_counts()"
   ]
  },
  {
   "cell_type": "code",
   "execution_count": 11,
   "metadata": {},
   "outputs": [
    {
     "data": {
      "text/plain": [
       "str"
      ]
     },
     "execution_count": 11,
     "metadata": {},
     "output_type": "execute_result"
    }
   ],
   "source": [
    "type(df_data['Flow_Bytes_Per_Sec'][0])"
   ]
  },
  {
   "cell_type": "code",
   "execution_count": 12,
   "metadata": {},
   "outputs": [],
   "source": [
    "# def convert_2_numeric(data):\n",
    "#     print(re.sub(\"\\D\\.\", \"\", data))"
   ]
  },
  {
   "cell_type": "code",
   "execution_count": 13,
   "metadata": {},
   "outputs": [],
   "source": [
    "def numeric(row):\n",
    "    try:\n",
    "        if np.isnan(row):\n",
    "            return\n",
    "        else:\n",
    "            row = str(row)\n",
    "            return float(re.sub(\"\\D\\.\", \"\", row))\n",
    "    except TypeError:\n",
    "        row = str(row)\n",
    "        return float(re.sub(\"\\D\\.\", \"\", row))"
   ]
  },
  {
   "cell_type": "code",
   "execution_count": 14,
   "metadata": {},
   "outputs": [],
   "source": [
    "df_data['Flow_Bytes_Per_Sec'] = df_data['Flow_Bytes_Per_Sec'].apply(numeric)\n",
    "df_data['Flow_Packets_Per_Sec'] = df_data['Flow_Packets_Per_Sec'].apply(numeric)"
   ]
  },
  {
   "cell_type": "code",
   "execution_count": 15,
   "metadata": {},
   "outputs": [
    {
     "data": {
      "text/plain": [
       "Destination_Port                  0\n",
       "Flow_Duration                     0\n",
       "Total_Fwd_Packets                 0\n",
       "Total_Backward_Packets            0\n",
       "Total_Length_of_Fwd_Packets       0\n",
       "Total_Length_of_Bwd_Packets       0\n",
       "Fwd_Packet_Length_Max             0\n",
       "Fwd_Packet_Length_Min             0\n",
       "Fwd_Packet_Length_Mean            0\n",
       "Fwd_Packet_Length_Std             0\n",
       "Bwd_Packet_Length_Max             0\n",
       "Bwd_Packet_Length_Min             0\n",
       "Bwd_Packet_Length_Mean            0\n",
       "Bwd_Packet_Length_Std             0\n",
       "Flow_Bytes_Per_Sec             1008\n",
       "Flow_Packets_Per_Sec              0\n",
       "Flow_IAT_Mean                     0\n",
       "Flow_IAT_Std                      0\n",
       "Flow_IAT_Max                      0\n",
       "Flow_IAT_Min                      0\n",
       "Fwd_IAT_Total                     0\n",
       "Fwd_IAT_Mean                      0\n",
       "Fwd_IAT_Std                       0\n",
       "Fwd_IAT_Max                       0\n",
       "Fwd_IAT_Min                       0\n",
       "Bwd_IAT_Total                     0\n",
       "Bwd_IAT_Mean                      0\n",
       "Bwd_IAT_Std                       0\n",
       "Bwd_IAT_Max                       0\n",
       "Bwd_IAT_Min                       0\n",
       "                               ... \n",
       "CWE_Flag_Count                    0\n",
       "ECE_Flag_Count                    0\n",
       "Down_Up_Ratio                     0\n",
       "Average_Packet_Size               0\n",
       "Avg_Fwd_Segment_Size              0\n",
       "Avg_Bwd_Segment_Size              0\n",
       "Fwd_Header_Length.1               0\n",
       "Fwd_Avg_Bytes_Bulk                0\n",
       "Fwd_Avg_Packets_Bulk              0\n",
       "Fwd_Avg_Bulk_Rate                 0\n",
       "Bwd_Avg_Bytes_Bulk                0\n",
       "Bwd_Avg_Packets_Bulk              0\n",
       "Bwd_Avg_Bulk_Rate                 0\n",
       "Subflow_Fwd_Packets               0\n",
       "Subflow_Fwd_Bytes                 0\n",
       "Subflow_Bwd_Packets               0\n",
       "Subflow_Bwd_Bytes                 0\n",
       "Init_Win_bytes_forward            0\n",
       "Init_Win_bytes_backward           0\n",
       "act_data_pkt_fwd                  0\n",
       "min_seg_size_forward              0\n",
       "Active_Mean                       0\n",
       "Active_Std                        0\n",
       "Active_Max                        0\n",
       "Active_Min                        0\n",
       "Idle_Mean                         0\n",
       "Idle_Std                          0\n",
       "Idle_Max                          0\n",
       "Idle_Min                          0\n",
       "Label                             0\n",
       "Length: 79, dtype: int64"
      ]
     },
     "execution_count": 15,
     "metadata": {},
     "output_type": "execute_result"
    }
   ],
   "source": [
    "df_data.isna().sum()"
   ]
  },
  {
   "cell_type": "code",
   "execution_count": 16,
   "metadata": {},
   "outputs": [],
   "source": [
    "df_data.Flow_Bytes_Per_Sec.fillna(value=df_data.Flow_Bytes_Per_Sec.median(), inplace=True)"
   ]
  },
  {
   "cell_type": "code",
   "execution_count": 17,
   "metadata": {},
   "outputs": [
    {
     "data": {
      "text/plain": [
       "Destination_Port               0\n",
       "Flow_Duration                  0\n",
       "Total_Fwd_Packets              0\n",
       "Total_Backward_Packets         0\n",
       "Total_Length_of_Fwd_Packets    0\n",
       "Total_Length_of_Bwd_Packets    0\n",
       "Fwd_Packet_Length_Max          0\n",
       "Fwd_Packet_Length_Min          0\n",
       "Fwd_Packet_Length_Mean         0\n",
       "Fwd_Packet_Length_Std          0\n",
       "Bwd_Packet_Length_Max          0\n",
       "Bwd_Packet_Length_Min          0\n",
       "Bwd_Packet_Length_Mean         0\n",
       "Bwd_Packet_Length_Std          0\n",
       "Flow_Bytes_Per_Sec             0\n",
       "Flow_Packets_Per_Sec           0\n",
       "Flow_IAT_Mean                  0\n",
       "Flow_IAT_Std                   0\n",
       "Flow_IAT_Max                   0\n",
       "Flow_IAT_Min                   0\n",
       "Fwd_IAT_Total                  0\n",
       "Fwd_IAT_Mean                   0\n",
       "Fwd_IAT_Std                    0\n",
       "Fwd_IAT_Max                    0\n",
       "Fwd_IAT_Min                    0\n",
       "Bwd_IAT_Total                  0\n",
       "Bwd_IAT_Mean                   0\n",
       "Bwd_IAT_Std                    0\n",
       "Bwd_IAT_Max                    0\n",
       "Bwd_IAT_Min                    0\n",
       "                              ..\n",
       "CWE_Flag_Count                 0\n",
       "ECE_Flag_Count                 0\n",
       "Down_Up_Ratio                  0\n",
       "Average_Packet_Size            0\n",
       "Avg_Fwd_Segment_Size           0\n",
       "Avg_Bwd_Segment_Size           0\n",
       "Fwd_Header_Length.1            0\n",
       "Fwd_Avg_Bytes_Bulk             0\n",
       "Fwd_Avg_Packets_Bulk           0\n",
       "Fwd_Avg_Bulk_Rate              0\n",
       "Bwd_Avg_Bytes_Bulk             0\n",
       "Bwd_Avg_Packets_Bulk           0\n",
       "Bwd_Avg_Bulk_Rate              0\n",
       "Subflow_Fwd_Packets            0\n",
       "Subflow_Fwd_Bytes              0\n",
       "Subflow_Bwd_Packets            0\n",
       "Subflow_Bwd_Bytes              0\n",
       "Init_Win_bytes_forward         0\n",
       "Init_Win_bytes_backward        0\n",
       "act_data_pkt_fwd               0\n",
       "min_seg_size_forward           0\n",
       "Active_Mean                    0\n",
       "Active_Std                     0\n",
       "Active_Max                     0\n",
       "Active_Min                     0\n",
       "Idle_Mean                      0\n",
       "Idle_Std                       0\n",
       "Idle_Max                       0\n",
       "Idle_Min                       0\n",
       "Label                          0\n",
       "Length: 79, dtype: int64"
      ]
     },
     "execution_count": 17,
     "metadata": {},
     "output_type": "execute_result"
    }
   ],
   "source": [
    "df_data.isna().sum()"
   ]
  },
  {
   "cell_type": "code",
   "execution_count": 18,
   "metadata": {},
   "outputs": [
    {
     "data": {
      "text/html": [
       "<div>\n",
       "<style scoped>\n",
       "    .dataframe tbody tr th:only-of-type {\n",
       "        vertical-align: middle;\n",
       "    }\n",
       "\n",
       "    .dataframe tbody tr th {\n",
       "        vertical-align: top;\n",
       "    }\n",
       "\n",
       "    .dataframe thead th {\n",
       "        text-align: right;\n",
       "    }\n",
       "</style>\n",
       "<table border=\"1\" class=\"dataframe\">\n",
       "  <thead>\n",
       "    <tr style=\"text-align: right;\">\n",
       "      <th></th>\n",
       "      <th>Destination_Port</th>\n",
       "      <th>Flow_Duration</th>\n",
       "      <th>Total_Fwd_Packets</th>\n",
       "      <th>Total_Backward_Packets</th>\n",
       "      <th>Total_Length_of_Fwd_Packets</th>\n",
       "      <th>Total_Length_of_Bwd_Packets</th>\n",
       "      <th>Fwd_Packet_Length_Max</th>\n",
       "      <th>Fwd_Packet_Length_Min</th>\n",
       "      <th>Fwd_Packet_Length_Mean</th>\n",
       "      <th>Fwd_Packet_Length_Std</th>\n",
       "      <th>...</th>\n",
       "      <th>min_seg_size_forward</th>\n",
       "      <th>Active_Mean</th>\n",
       "      <th>Active_Std</th>\n",
       "      <th>Active_Max</th>\n",
       "      <th>Active_Min</th>\n",
       "      <th>Idle_Mean</th>\n",
       "      <th>Idle_Std</th>\n",
       "      <th>Idle_Max</th>\n",
       "      <th>Idle_Min</th>\n",
       "      <th>Label</th>\n",
       "    </tr>\n",
       "  </thead>\n",
       "  <tbody>\n",
       "    <tr>\n",
       "      <th>672569</th>\n",
       "      <td>80</td>\n",
       "      <td>11392288</td>\n",
       "      <td>5</td>\n",
       "      <td>4</td>\n",
       "      <td>312</td>\n",
       "      <td>3525</td>\n",
       "      <td>312</td>\n",
       "      <td>0</td>\n",
       "      <td>62.4</td>\n",
       "      <td>139.530642</td>\n",
       "      <td>...</td>\n",
       "      <td>32</td>\n",
       "      <td>852.0</td>\n",
       "      <td>0.0</td>\n",
       "      <td>852</td>\n",
       "      <td>852</td>\n",
       "      <td>6387034.0</td>\n",
       "      <td>0.0</td>\n",
       "      <td>6387034</td>\n",
       "      <td>6387034</td>\n",
       "      <td>DoS GoldenEye</td>\n",
       "    </tr>\n",
       "    <tr>\n",
       "      <th>535817</th>\n",
       "      <td>59918</td>\n",
       "      <td>81</td>\n",
       "      <td>1</td>\n",
       "      <td>2</td>\n",
       "      <td>0</td>\n",
       "      <td>0</td>\n",
       "      <td>0</td>\n",
       "      <td>0</td>\n",
       "      <td>0.0</td>\n",
       "      <td>0.000000</td>\n",
       "      <td>...</td>\n",
       "      <td>32</td>\n",
       "      <td>0.0</td>\n",
       "      <td>0.0</td>\n",
       "      <td>0</td>\n",
       "      <td>0</td>\n",
       "      <td>0.0</td>\n",
       "      <td>0.0</td>\n",
       "      <td>0</td>\n",
       "      <td>0</td>\n",
       "      <td>BENIGN</td>\n",
       "    </tr>\n",
       "    <tr>\n",
       "      <th>518755</th>\n",
       "      <td>53</td>\n",
       "      <td>62336</td>\n",
       "      <td>2</td>\n",
       "      <td>2</td>\n",
       "      <td>84</td>\n",
       "      <td>282</td>\n",
       "      <td>42</td>\n",
       "      <td>42</td>\n",
       "      <td>42.0</td>\n",
       "      <td>0.000000</td>\n",
       "      <td>...</td>\n",
       "      <td>40</td>\n",
       "      <td>0.0</td>\n",
       "      <td>0.0</td>\n",
       "      <td>0</td>\n",
       "      <td>0</td>\n",
       "      <td>0.0</td>\n",
       "      <td>0.0</td>\n",
       "      <td>0</td>\n",
       "      <td>0</td>\n",
       "      <td>BENIGN</td>\n",
       "    </tr>\n",
       "    <tr>\n",
       "      <th>276699</th>\n",
       "      <td>80</td>\n",
       "      <td>99347683</td>\n",
       "      <td>9</td>\n",
       "      <td>6</td>\n",
       "      <td>702</td>\n",
       "      <td>11595</td>\n",
       "      <td>351</td>\n",
       "      <td>0</td>\n",
       "      <td>78.0</td>\n",
       "      <td>154.776452</td>\n",
       "      <td>...</td>\n",
       "      <td>32</td>\n",
       "      <td>994.0</td>\n",
       "      <td>0.0</td>\n",
       "      <td>994</td>\n",
       "      <td>994</td>\n",
       "      <td>98900000.0</td>\n",
       "      <td>0.0</td>\n",
       "      <td>98900000</td>\n",
       "      <td>98900000</td>\n",
       "      <td>DoS Hulk</td>\n",
       "    </tr>\n",
       "    <tr>\n",
       "      <th>680042</th>\n",
       "      <td>59043</td>\n",
       "      <td>53</td>\n",
       "      <td>1</td>\n",
       "      <td>1</td>\n",
       "      <td>6</td>\n",
       "      <td>6</td>\n",
       "      <td>6</td>\n",
       "      <td>6</td>\n",
       "      <td>6.0</td>\n",
       "      <td>0.000000</td>\n",
       "      <td>...</td>\n",
       "      <td>20</td>\n",
       "      <td>0.0</td>\n",
       "      <td>0.0</td>\n",
       "      <td>0</td>\n",
       "      <td>0</td>\n",
       "      <td>0.0</td>\n",
       "      <td>0.0</td>\n",
       "      <td>0</td>\n",
       "      <td>0</td>\n",
       "      <td>BENIGN</td>\n",
       "    </tr>\n",
       "  </tbody>\n",
       "</table>\n",
       "<p>5 rows × 79 columns</p>\n",
       "</div>"
      ],
      "text/plain": [
       "        Destination_Port  Flow_Duration  Total_Fwd_Packets  \\\n",
       "672569                80       11392288                  5   \n",
       "535817             59918             81                  1   \n",
       "518755                53          62336                  2   \n",
       "276699                80       99347683                  9   \n",
       "680042             59043             53                  1   \n",
       "\n",
       "        Total_Backward_Packets  Total_Length_of_Fwd_Packets  \\\n",
       "672569                       4                          312   \n",
       "535817                       2                            0   \n",
       "518755                       2                           84   \n",
       "276699                       6                          702   \n",
       "680042                       1                            6   \n",
       "\n",
       "        Total_Length_of_Bwd_Packets  Fwd_Packet_Length_Max  \\\n",
       "672569                         3525                    312   \n",
       "535817                            0                      0   \n",
       "518755                          282                     42   \n",
       "276699                        11595                    351   \n",
       "680042                            6                      6   \n",
       "\n",
       "        Fwd_Packet_Length_Min  Fwd_Packet_Length_Mean  Fwd_Packet_Length_Std  \\\n",
       "672569                      0                    62.4             139.530642   \n",
       "535817                      0                     0.0               0.000000   \n",
       "518755                     42                    42.0               0.000000   \n",
       "276699                      0                    78.0             154.776452   \n",
       "680042                      6                     6.0               0.000000   \n",
       "\n",
       "            ...        min_seg_size_forward  Active_Mean  Active_Std  \\\n",
       "672569      ...                          32        852.0         0.0   \n",
       "535817      ...                          32          0.0         0.0   \n",
       "518755      ...                          40          0.0         0.0   \n",
       "276699      ...                          32        994.0         0.0   \n",
       "680042      ...                          20          0.0         0.0   \n",
       "\n",
       "        Active_Max  Active_Min   Idle_Mean  Idle_Std  Idle_Max  Idle_Min  \\\n",
       "672569         852         852   6387034.0       0.0   6387034   6387034   \n",
       "535817           0           0         0.0       0.0         0         0   \n",
       "518755           0           0         0.0       0.0         0         0   \n",
       "276699         994         994  98900000.0       0.0  98900000  98900000   \n",
       "680042           0           0         0.0       0.0         0         0   \n",
       "\n",
       "                Label  \n",
       "672569  DoS GoldenEye  \n",
       "535817         BENIGN  \n",
       "518755         BENIGN  \n",
       "276699       DoS Hulk  \n",
       "680042         BENIGN  \n",
       "\n",
       "[5 rows x 79 columns]"
      ]
     },
     "execution_count": 18,
     "metadata": {},
     "output_type": "execute_result"
    }
   ],
   "source": [
    "df_data.head()"
   ]
  },
  {
   "cell_type": "code",
   "execution_count": 19,
   "metadata": {},
   "outputs": [],
   "source": [
    "def nullAnalysis(df):\n",
    "    tab_info=pd.DataFrame(df.dtypes).T.rename(index={0:'column type'})\n",
    "\n",
    "    tab_info=tab_info.append(pd.DataFrame(df.isnull().sum()).T.rename(index={0:'null values (nb)'}))\n",
    "    tab_info=tab_info.append(pd.DataFrame(df.isnull().sum()/df.shape[0]*100).T.rename(index={0:'null values (%)'}))\n",
    "    return tab_info"
   ]
  },
  {
   "cell_type": "code",
   "execution_count": 20,
   "metadata": {},
   "outputs": [
    {
     "data": {
      "text/html": [
       "<div>\n",
       "<style scoped>\n",
       "    .dataframe tbody tr th:only-of-type {\n",
       "        vertical-align: middle;\n",
       "    }\n",
       "\n",
       "    .dataframe tbody tr th {\n",
       "        vertical-align: top;\n",
       "    }\n",
       "\n",
       "    .dataframe thead th {\n",
       "        text-align: right;\n",
       "    }\n",
       "</style>\n",
       "<table border=\"1\" class=\"dataframe\">\n",
       "  <thead>\n",
       "    <tr style=\"text-align: right;\">\n",
       "      <th></th>\n",
       "      <th>Destination_Port</th>\n",
       "      <th>Flow_Duration</th>\n",
       "      <th>Total_Fwd_Packets</th>\n",
       "      <th>Total_Backward_Packets</th>\n",
       "      <th>Total_Length_of_Fwd_Packets</th>\n",
       "      <th>Total_Length_of_Bwd_Packets</th>\n",
       "      <th>Fwd_Packet_Length_Max</th>\n",
       "      <th>Fwd_Packet_Length_Min</th>\n",
       "      <th>Fwd_Packet_Length_Mean</th>\n",
       "      <th>Fwd_Packet_Length_Std</th>\n",
       "      <th>...</th>\n",
       "      <th>min_seg_size_forward</th>\n",
       "      <th>Active_Mean</th>\n",
       "      <th>Active_Std</th>\n",
       "      <th>Active_Max</th>\n",
       "      <th>Active_Min</th>\n",
       "      <th>Idle_Mean</th>\n",
       "      <th>Idle_Std</th>\n",
       "      <th>Idle_Max</th>\n",
       "      <th>Idle_Min</th>\n",
       "      <th>Label</th>\n",
       "    </tr>\n",
       "  </thead>\n",
       "  <tbody>\n",
       "    <tr>\n",
       "      <th>column type</th>\n",
       "      <td>int64</td>\n",
       "      <td>int64</td>\n",
       "      <td>int64</td>\n",
       "      <td>int64</td>\n",
       "      <td>int64</td>\n",
       "      <td>int64</td>\n",
       "      <td>int64</td>\n",
       "      <td>int64</td>\n",
       "      <td>float64</td>\n",
       "      <td>float64</td>\n",
       "      <td>...</td>\n",
       "      <td>int64</td>\n",
       "      <td>float64</td>\n",
       "      <td>float64</td>\n",
       "      <td>int64</td>\n",
       "      <td>int64</td>\n",
       "      <td>float64</td>\n",
       "      <td>float64</td>\n",
       "      <td>int64</td>\n",
       "      <td>int64</td>\n",
       "      <td>object</td>\n",
       "    </tr>\n",
       "    <tr>\n",
       "      <th>null values (nb)</th>\n",
       "      <td>0</td>\n",
       "      <td>0</td>\n",
       "      <td>0</td>\n",
       "      <td>0</td>\n",
       "      <td>0</td>\n",
       "      <td>0</td>\n",
       "      <td>0</td>\n",
       "      <td>0</td>\n",
       "      <td>0</td>\n",
       "      <td>0</td>\n",
       "      <td>...</td>\n",
       "      <td>0</td>\n",
       "      <td>0</td>\n",
       "      <td>0</td>\n",
       "      <td>0</td>\n",
       "      <td>0</td>\n",
       "      <td>0</td>\n",
       "      <td>0</td>\n",
       "      <td>0</td>\n",
       "      <td>0</td>\n",
       "      <td>0</td>\n",
       "    </tr>\n",
       "    <tr>\n",
       "      <th>null values (%)</th>\n",
       "      <td>0</td>\n",
       "      <td>0</td>\n",
       "      <td>0</td>\n",
       "      <td>0</td>\n",
       "      <td>0</td>\n",
       "      <td>0</td>\n",
       "      <td>0</td>\n",
       "      <td>0</td>\n",
       "      <td>0</td>\n",
       "      <td>0</td>\n",
       "      <td>...</td>\n",
       "      <td>0</td>\n",
       "      <td>0</td>\n",
       "      <td>0</td>\n",
       "      <td>0</td>\n",
       "      <td>0</td>\n",
       "      <td>0</td>\n",
       "      <td>0</td>\n",
       "      <td>0</td>\n",
       "      <td>0</td>\n",
       "      <td>0</td>\n",
       "    </tr>\n",
       "  </tbody>\n",
       "</table>\n",
       "<p>3 rows × 79 columns</p>\n",
       "</div>"
      ],
      "text/plain": [
       "                 Destination_Port Flow_Duration Total_Fwd_Packets  \\\n",
       "column type                 int64         int64             int64   \n",
       "null values (nb)                0             0                 0   \n",
       "null values (%)                 0             0                 0   \n",
       "\n",
       "                 Total_Backward_Packets Total_Length_of_Fwd_Packets  \\\n",
       "column type                       int64                       int64   \n",
       "null values (nb)                      0                           0   \n",
       "null values (%)                       0                           0   \n",
       "\n",
       "                 Total_Length_of_Bwd_Packets Fwd_Packet_Length_Max  \\\n",
       "column type                            int64                 int64   \n",
       "null values (nb)                           0                     0   \n",
       "null values (%)                            0                     0   \n",
       "\n",
       "                 Fwd_Packet_Length_Min Fwd_Packet_Length_Mean  \\\n",
       "column type                      int64                float64   \n",
       "null values (nb)                     0                      0   \n",
       "null values (%)                      0                      0   \n",
       "\n",
       "                 Fwd_Packet_Length_Std   ...   min_seg_size_forward  \\\n",
       "column type                    float64   ...                  int64   \n",
       "null values (nb)                     0   ...                      0   \n",
       "null values (%)                      0   ...                      0   \n",
       "\n",
       "                 Active_Mean Active_Std Active_Max Active_Min Idle_Mean  \\\n",
       "column type          float64    float64      int64      int64   float64   \n",
       "null values (nb)           0          0          0          0         0   \n",
       "null values (%)            0          0          0          0         0   \n",
       "\n",
       "                 Idle_Std Idle_Max Idle_Min   Label  \n",
       "column type       float64    int64    int64  object  \n",
       "null values (nb)        0        0        0       0  \n",
       "null values (%)         0        0        0       0  \n",
       "\n",
       "[3 rows x 79 columns]"
      ]
     },
     "execution_count": 20,
     "metadata": {},
     "output_type": "execute_result"
    }
   ],
   "source": [
    "nullAnalysis(df_data)"
   ]
  },
  {
   "cell_type": "code",
   "execution_count": 21,
   "metadata": {},
   "outputs": [
    {
     "data": {
      "text/plain": [
       "array(['DoS GoldenEye', 'BENIGN', 'DoS Hulk', 'DoS slowloris',\n",
       "       'DoS Slowhttptest', 'Heartbleed'], dtype=object)"
      ]
     },
     "execution_count": 21,
     "metadata": {},
     "output_type": "execute_result"
    }
   ],
   "source": [
    "df_data.Label.unique()"
   ]
  },
  {
   "cell_type": "code",
   "execution_count": 22,
   "metadata": {},
   "outputs": [
    {
     "data": {
      "text/plain": [
       "BENIGN              440031\n",
       "DoS Hulk            231073\n",
       "DoS GoldenEye        10293\n",
       "DoS slowloris         5796\n",
       "DoS Slowhttptest      5499\n",
       "Heartbleed              11\n",
       "Name: Label, dtype: int64"
      ]
     },
     "execution_count": 22,
     "metadata": {},
     "output_type": "execute_result"
    }
   ],
   "source": [
    "df_data.Label.value_counts()"
   ]
  },
  {
   "cell_type": "code",
   "execution_count": 23,
   "metadata": {},
   "outputs": [],
   "source": [
    "df_data.Label.replace(inplace=True, to_replace= df_data.Label.unique(), value=np.arange(len(df_data.Label.unique())))"
   ]
  },
  {
   "cell_type": "code",
   "execution_count": 24,
   "metadata": {},
   "outputs": [
    {
     "data": {
      "text/plain": [
       "1    440031\n",
       "2    231073\n",
       "0     10293\n",
       "3      5796\n",
       "4      5499\n",
       "5        11\n",
       "Name: Label, dtype: int64"
      ]
     },
     "execution_count": 24,
     "metadata": {},
     "output_type": "execute_result"
    }
   ],
   "source": [
    "df_data.Label.value_counts()"
   ]
  },
  {
   "cell_type": "code",
   "execution_count": 25,
   "metadata": {},
   "outputs": [
    {
     "data": {
      "text/plain": [
       "False"
      ]
     },
     "execution_count": 25,
     "metadata": {},
     "output_type": "execute_result"
    }
   ],
   "source": [
    "np.isnan(df_data.values.any())"
   ]
  },
  {
   "cell_type": "code",
   "execution_count": 26,
   "metadata": {},
   "outputs": [
    {
     "data": {
      "text/plain": [
       "Int64Index([306682, 611890, 611890, 423216, 207331,  45247,  45247, 494142,\n",
       "            494142, 253276,\n",
       "            ...\n",
       "            191214, 320890, 295215, 193948, 195720,  87868, 417132, 417132,\n",
       "            306575, 298971],\n",
       "           dtype='int64', length=1586)"
      ]
     },
     "execution_count": 26,
     "metadata": {},
     "output_type": "execute_result"
    }
   ],
   "source": [
    "val = df_data[df_data.values >= np.finfo(np.float64).max]\n",
    "val.index"
   ]
  },
  {
   "cell_type": "code",
   "execution_count": 27,
   "metadata": {},
   "outputs": [],
   "source": [
    "df_data.drop(index=val.index, inplace=True)"
   ]
  },
  {
   "cell_type": "code",
   "execution_count": 28,
   "metadata": {},
   "outputs": [
    {
     "data": {
      "text/plain": [
       "(691406, 79)"
      ]
     },
     "execution_count": 28,
     "metadata": {},
     "output_type": "execute_result"
    }
   ],
   "source": [
    "df_data.shape"
   ]
  },
  {
   "cell_type": "code",
   "execution_count": 29,
   "metadata": {},
   "outputs": [],
   "source": [
    "df_data.to_csv(cleaned_file_path,index=False)"
   ]
  },
  {
   "cell_type": "code",
   "execution_count": 30,
   "metadata": {},
   "outputs": [],
   "source": [
    "y = df_data['Label']\n",
    "x = df_data.drop('Label',axis = 1)"
   ]
  },
  {
   "cell_type": "code",
   "execution_count": 31,
   "metadata": {},
   "outputs": [],
   "source": [
    "x_train, x_test, y_train, y_test = train_test_split(x, y, test_size= 0.25, random_state=42)"
   ]
  },
  {
   "cell_type": "code",
   "execution_count": 32,
   "metadata": {},
   "outputs": [
    {
     "name": "stdout",
     "output_type": "stream",
     "text": [
      "(518554, 78) (518554,) (172852, 78) (172852,)\n"
     ]
    }
   ],
   "source": [
    "print(x_train.shape, y_train.shape, x_test.shape, y_test.shape)"
   ]
  },
  {
   "cell_type": "code",
   "execution_count": 33,
   "metadata": {},
   "outputs": [],
   "source": [
    "pd.concat([x_train, y_train], axis=1, join='inner').to_csv(train_file_path, index=False)\n",
    "pd.concat([x_test, y_test], axis=1, join='inner').to_csv(test_file_path, index=False)"
   ]
  },
  {
   "cell_type": "code",
   "execution_count": 34,
   "metadata": {},
   "outputs": [],
   "source": [
    "scaler = StandardScaler()"
   ]
  },
  {
   "cell_type": "code",
   "execution_count": 36,
   "metadata": {},
   "outputs": [
    {
     "name": "stderr",
     "output_type": "stream",
     "text": [
      "C:\\Users\\abc\\Anaconda3\\lib\\site-packages\\sklearn\\preprocessing\\data.py:625: DataConversionWarning: Data with input dtype int64, float64 were all converted to float64 by StandardScaler.\n",
      "  return self.partial_fit(X, y)\n",
      "C:\\Users\\abc\\Anaconda3\\lib\\site-packages\\sklearn\\base.py:462: DataConversionWarning: Data with input dtype int64, float64 were all converted to float64 by StandardScaler.\n",
      "  return self.fit(X, **fit_params).transform(X)\n",
      "C:\\Users\\abc\\Anaconda3\\lib\\site-packages\\sklearn\\preprocessing\\data.py:625: DataConversionWarning: Data with input dtype int64, float64 were all converted to float64 by StandardScaler.\n",
      "  return self.partial_fit(X, y)\n",
      "C:\\Users\\abc\\Anaconda3\\lib\\site-packages\\sklearn\\base.py:462: DataConversionWarning: Data with input dtype int64, float64 were all converted to float64 by StandardScaler.\n",
      "  return self.fit(X, **fit_params).transform(X)\n"
     ]
    }
   ],
   "source": [
    "x_std_train = scaler.fit_transform(x_train)\n",
    "x_std_test = scaler.fit_transform(x_test)"
   ]
  },
  {
   "cell_type": "code",
   "execution_count": 37,
   "metadata": {},
   "outputs": [
    {
     "data": {
      "text/plain": [
       "array([-0.35410385, -0.65841333, -0.00947097, -0.00965655, -0.08584308,\n",
       "       -0.00730047, -0.38847757, -0.29502885, -0.38661942, -0.36818067,\n",
       "       -0.63907851, -0.52144311, -0.69590154, -0.60292355, -0.05820755,\n",
       "       -0.28220793, -0.4531379 , -0.58551739, -0.59922306, -0.05984528,\n",
       "       -0.65223305, -0.46314534, -0.56639795, -0.59602834, -0.115934  ,\n",
       "       -0.41819845, -0.27840114, -0.33005642, -0.35751265, -0.11459915,\n",
       "       -0.20959713,  0.        ,  0.        ,  0.        , -0.01058412,\n",
       "       -0.01167538, -0.27233233, -0.13055293, -0.491716  , -0.65804704,\n",
       "       -0.75759878, -0.67125345, -0.50926461, -0.32952548, -0.20959713,\n",
       "       -0.01734722, -0.49015009,  1.18411294, -0.26544935,  0.        ,\n",
       "       -0.01734722, -0.9931704 , -0.77153162, -0.38661942, -0.69590154,\n",
       "       -0.01058412,  0.        ,  0.        ,  0.        ,  0.        ,\n",
       "        0.        ,  0.        , -0.00947097, -0.08584308, -0.00965655,\n",
       "       -0.00729982, -0.4262965 , -0.2025321 , -0.00808497,  0.83028846,\n",
       "       -0.13306225, -0.10091536, -0.15005072, -0.10572821, -0.58308094,\n",
       "       -0.10456021, -0.58826478, -0.57405573])"
      ]
     },
     "execution_count": 37,
     "metadata": {},
     "output_type": "execute_result"
    }
   ],
   "source": [
    "x_std_test[0]"
   ]
  },
  {
   "cell_type": "code",
   "execution_count": 38,
   "metadata": {},
   "outputs": [],
   "source": [
    "x_train_inverse = scaler.inverse_transform(x_std_train)\n",
    "x_test_inverse = scaler.inverse_transform(x_std_test)"
   ]
  },
  {
   "cell_type": "code",
   "execution_count": 39,
   "metadata": {},
   "outputs": [
    {
     "data": {
      "text/plain": [
       "array([ 8.00000000e+01,  2.34000000e+02,  2.00000000e+00,  0.00000000e+00,\n",
       "        0.00000000e+00,  0.00000000e+00,  0.00000000e+00,  0.00000000e+00,\n",
       "        0.00000000e+00,  0.00000000e+00,  2.27373675e-13,  0.00000000e+00,\n",
       "        0.00000000e+00,  0.00000000e+00,  0.00000000e+00,  8.54700855e+03,\n",
       "        2.34000000e+02,  0.00000000e+00,  2.34000000e+02,  2.34000000e+02,\n",
       "        2.34000000e+02,  2.34000000e+02,  0.00000000e+00,  2.34000000e+02,\n",
       "        2.34000000e+02,  0.00000000e+00,  0.00000000e+00, -4.65661287e-10,\n",
       "        0.00000000e+00,  0.00000000e+00,  0.00000000e+00,  0.00000000e+00,\n",
       "        0.00000000e+00,  0.00000000e+00,  6.40000000e+01,  0.00000000e+00,\n",
       "        8.54700855e+03, -4.54747351e-13,  0.00000000e+00,  0.00000000e+00,\n",
       "        0.00000000e+00,  0.00000000e+00, -1.16415322e-10,  0.00000000e+00,\n",
       "        0.00000000e+00,  0.00000000e+00,  0.00000000e+00,  1.00000000e+00,\n",
       "        0.00000000e+00,  0.00000000e+00,  0.00000000e+00,  0.00000000e+00,\n",
       "        0.00000000e+00,  0.00000000e+00,  0.00000000e+00,  6.40000000e+01,\n",
       "        0.00000000e+00,  0.00000000e+00,  0.00000000e+00,  0.00000000e+00,\n",
       "        0.00000000e+00,  0.00000000e+00,  2.00000000e+00,  0.00000000e+00,\n",
       "        0.00000000e+00,  0.00000000e+00,  2.51000000e+02, -1.00000000e+00,\n",
       "        0.00000000e+00,  3.20000000e+01,  0.00000000e+00,  0.00000000e+00,\n",
       "        0.00000000e+00,  0.00000000e+00, -3.72529030e-09,  0.00000000e+00,\n",
       "        0.00000000e+00,  0.00000000e+00])"
      ]
     },
     "execution_count": 39,
     "metadata": {},
     "output_type": "execute_result"
    }
   ],
   "source": [
    "x_test_inverse[0]"
   ]
  },
  {
   "cell_type": "code",
   "execution_count": 40,
   "metadata": {},
   "outputs": [],
   "source": [
    "y_cat_train = to_categorical(num_classes=6,y=y_train)\n",
    "y_cat_test = to_categorical(num_classes=6,y=y_test)"
   ]
  },
  {
   "cell_type": "code",
   "execution_count": 41,
   "metadata": {},
   "outputs": [],
   "source": [
    "np.save(arr=x_std_train, file=os.path.join(out_dir,'train_scaled_features'))\n",
    "np.save(arr=x_std_test, file=os.path.join(out_dir,'test_scaled_features'))"
   ]
  },
  {
   "cell_type": "code",
   "execution_count": 42,
   "metadata": {},
   "outputs": [
    {
     "name": "stdout",
     "output_type": "stream",
     "text": [
      "(518554, 78) (518554, 6) (172852, 78) (172852, 6)\n"
     ]
    }
   ],
   "source": [
    "print(x_train.shape, y_cat_train.shape, x_test.shape, y_cat_test.shape)"
   ]
  },
  {
   "cell_type": "code",
   "execution_count": 43,
   "metadata": {},
   "outputs": [
    {
     "data": {
      "text/plain": [
       "numpy.ndarray"
      ]
     },
     "execution_count": 43,
     "metadata": {},
     "output_type": "execute_result"
    }
   ],
   "source": [
    "type(y_cat_test)"
   ]
  },
  {
   "cell_type": "code",
   "execution_count": 44,
   "metadata": {},
   "outputs": [],
   "source": [
    "model =Sequential()"
   ]
  },
  {
   "cell_type": "code",
   "execution_count": 45,
   "metadata": {},
   "outputs": [
    {
     "name": "stdout",
     "output_type": "stream",
     "text": [
      "WARNING:tensorflow:From C:\\Users\\abc\\Anaconda3\\lib\\site-packages\\tensorflow\\python\\framework\\op_def_library.py:263: colocate_with (from tensorflow.python.framework.ops) is deprecated and will be removed in a future version.\n",
      "Instructions for updating:\n",
      "Colocations handled automatically by placer.\n",
      "WARNING:tensorflow:From C:\\Users\\abc\\Anaconda3\\lib\\site-packages\\keras\\backend\\tensorflow_backend.py:3445: calling dropout (from tensorflow.python.ops.nn_ops) with keep_prob is deprecated and will be removed in a future version.\n",
      "Instructions for updating:\n",
      "Please use `rate` instead of `keep_prob`. Rate should be set to `rate = 1 - keep_prob`.\n"
     ]
    }
   ],
   "source": [
    "model.add(Dense(64, input_dim =x_train.shape[1], activation= 'tanh'))\n",
    "model.add(Dense(64, activation='tanh'))\n",
    "model.add(Dropout(0.25))\n",
    "model.add(Dense(32, activation='tanh'))\n",
    "model.add(Dropout(0.25))\n",
    "model.add(Dense(16, activation='tanh'))\n",
    "model.add(Dense(6, activation='softmax'))"
   ]
  },
  {
   "cell_type": "code",
   "execution_count": 46,
   "metadata": {},
   "outputs": [],
   "source": [
    "model.compile(\n",
    "    optimizer='adam',\n",
    "    loss= 'categorical_crossentropy',\n",
    "    metrics=['accuracy']\n",
    ")"
   ]
  },
  {
   "cell_type": "code",
   "execution_count": 47,
   "metadata": {},
   "outputs": [
    {
     "name": "stdout",
     "output_type": "stream",
     "text": [
      "_________________________________________________________________\n",
      "Layer (type)                 Output Shape              Param #   \n",
      "=================================================================\n",
      "dense_1 (Dense)              (None, 64)                5056      \n",
      "_________________________________________________________________\n",
      "dense_2 (Dense)              (None, 64)                4160      \n",
      "_________________________________________________________________\n",
      "dropout_1 (Dropout)          (None, 64)                0         \n",
      "_________________________________________________________________\n",
      "dense_3 (Dense)              (None, 32)                2080      \n",
      "_________________________________________________________________\n",
      "dropout_2 (Dropout)          (None, 32)                0         \n",
      "_________________________________________________________________\n",
      "dense_4 (Dense)              (None, 16)                528       \n",
      "_________________________________________________________________\n",
      "dense_5 (Dense)              (None, 6)                 102       \n",
      "=================================================================\n",
      "Total params: 11,926\n",
      "Trainable params: 11,926\n",
      "Non-trainable params: 0\n",
      "_________________________________________________________________\n"
     ]
    }
   ],
   "source": [
    "model.summary()"
   ]
  },
  {
   "cell_type": "code",
   "execution_count": 48,
   "metadata": {},
   "outputs": [
    {
     "name": "stdout",
     "output_type": "stream",
     "text": [
      "WARNING:tensorflow:From C:\\Users\\abc\\Anaconda3\\lib\\site-packages\\tensorflow\\python\\ops\\math_ops.py:3066: to_int32 (from tensorflow.python.ops.math_ops) is deprecated and will be removed in a future version.\n",
      "Instructions for updating:\n",
      "Use tf.cast instead.\n",
      "Train on 518554 samples, validate on 172852 samples\n",
      "Epoch 1/10\n",
      "518554/518554 [==============================] - 68s 132us/step - loss: 0.0530 - acc: 0.9829 - val_loss: 0.0301 - val_acc: 0.9898\n",
      "Epoch 2/10\n",
      "518554/518554 [==============================] - 63s 122us/step - loss: 0.0329 - acc: 0.9887 - val_loss: 0.0274 - val_acc: 0.9909\n",
      "Epoch 3/10\n",
      "518554/518554 [==============================] - 64s 124us/step - loss: 0.0302 - acc: 0.9894 - val_loss: 0.0259 - val_acc: 0.9910\n",
      "Epoch 4/10\n",
      "518554/518554 [==============================] - 62s 120us/step - loss: 0.0293 - acc: 0.9897 - val_loss: 0.0271 - val_acc: 0.9904\n",
      "Epoch 5/10\n",
      "518554/518554 [==============================] - 61s 118us/step - loss: 0.0275 - acc: 0.9903 - val_loss: 0.0240 - val_acc: 0.9914\n",
      "Epoch 6/10\n",
      "518554/518554 [==============================] - 62s 119us/step - loss: 0.0270 - acc: 0.9905 - val_loss: 0.0247 - val_acc: 0.9915\n",
      "Epoch 7/10\n",
      "518554/518554 [==============================] - 63s 122us/step - loss: 0.0269 - acc: 0.9904 - val_loss: 0.0237 - val_acc: 0.9915\n",
      "Epoch 8/10\n",
      "518554/518554 [==============================] - 63s 122us/step - loss: 0.0260 - acc: 0.9908 - val_loss: 0.0241 - val_acc: 0.9917\n",
      "Epoch 9/10\n",
      "518554/518554 [==============================] - 63s 122us/step - loss: 0.0259 - acc: 0.9907 - val_loss: 0.0229 - val_acc: 0.9917\n",
      "Epoch 10/10\n",
      "518554/518554 [==============================] - 64s 124us/step - loss: 0.0255 - acc: 0.9908 - val_loss: 0.0231 - val_acc: 0.9913\n"
     ]
    },
    {
     "data": {
      "text/plain": [
       "<keras.callbacks.History at 0x1aeaab33668>"
      ]
     },
     "execution_count": 48,
     "metadata": {},
     "output_type": "execute_result"
    }
   ],
   "source": [
    "model.fit(\n",
    "    x_std_train,\n",
    "    y_cat_train,\n",
    "    epochs = 10,\n",
    "    batch_size = 32,\n",
    "    validation_data = (x_std_test, y_cat_test)\n",
    ")"
   ]
  },
  {
   "cell_type": "code",
   "execution_count": 49,
   "metadata": {},
   "outputs": [
    {
     "data": {
      "text/plain": [
       "array([2, 1, 1, ..., 2, 1, 3], dtype=int64)"
      ]
     },
     "execution_count": 49,
     "metadata": {},
     "output_type": "execute_result"
    }
   ],
   "source": [
    "y_pred_rounded = model.predict_classes(x_std_test)\n",
    "y_pred_rounded"
   ]
  },
  {
   "cell_type": "code",
   "execution_count": 50,
   "metadata": {},
   "outputs": [],
   "source": [
    "def plot_confusion_matrix(cm, classes,title='Confusion matrix'):\n",
    "    plt.figure(figsize=(10,5))\n",
    "    plt.imshow(cm, interpolation='nearest', cmap='YlGnBu')\n",
    "    plt.title(title)\n",
    "    plt.colorbar()\n",
    "    tick_marks = np.arange(len(classes))\n",
    "    plt.xticks(tick_marks, classes, rotation=45)\n",
    "    plt.yticks(tick_marks, classes)\n",
    "    \n",
    "    \n",
    "    fmt = 'd'\n",
    "    thresh = cm.max() / 2.\n",
    "    for i, j in itertools.product(range(cm.shape[0]), range(cm.shape[1])):\n",
    "        plt.text(j, i, format(cm[i, j], fmt),\n",
    "                 horizontalalignment=\"center\",\n",
    "                 color=\"white\" if cm[i, j] > thresh else \"black\")\n",
    "\n",
    "    plt.ylabel('True label')\n",
    "    plt.xlabel('Predicted label')\n",
    "    plt.tight_layout()\n",
    "    plt.show()"
   ]
  },
  {
   "cell_type": "code",
   "execution_count": 51,
   "metadata": {},
   "outputs": [
    {
     "name": "stderr",
     "output_type": "stream",
     "text": [
      "C:\\Users\\abc\\Anaconda3\\lib\\site-packages\\sklearn\\metrics\\classification.py:1143: UndefinedMetricWarning: Precision and F-score are ill-defined and being set to 0.0 in labels with no predicted samples.\n",
      "  'precision', 'predicted', average, warn_for)\n",
      "C:\\Users\\abc\\Anaconda3\\lib\\site-packages\\sklearn\\metrics\\classification.py:1143: UndefinedMetricWarning: Precision and F-score are ill-defined and being set to 0.0 in labels with no predicted samples.\n",
      "  'precision', 'predicted', average, warn_for)\n"
     ]
    },
    {
     "name": "stdout",
     "output_type": "stream",
     "text": [
      "              precision    recall  f1-score   support\n",
      "\n",
      "           0       1.00      0.98      0.99      2597\n",
      "           1       1.00      0.99      0.99    109709\n",
      "           2       0.98      1.00      0.99     57792\n",
      "           3       0.99      0.99      0.99      1432\n",
      "           4       0.96      0.99      0.98      1319\n",
      "           5       0.00      0.00      0.00         3\n",
      "\n",
      "   micro avg       0.99      0.99      0.99    172852\n",
      "   macro avg       0.82      0.83      0.82    172852\n",
      "weighted avg       0.99      0.99      0.99    172852\n",
      "\n"
     ]
    },
    {
     "name": "stderr",
     "output_type": "stream",
     "text": [
      "C:\\Users\\abc\\Anaconda3\\lib\\site-packages\\sklearn\\metrics\\classification.py:1143: UndefinedMetricWarning: Precision and F-score are ill-defined and being set to 0.0 in labels with no predicted samples.\n",
      "  'precision', 'predicted', average, warn_for)\n"
     ]
    }
   ],
   "source": [
    "print(classification_report(y_true=y_test, y_pred=y_pred_rounded))"
   ]
  },
  {
   "cell_type": "code",
   "execution_count": 52,
   "metadata": {},
   "outputs": [
    {
     "name": "stdout",
     "output_type": "stream",
     "text": [
      "Accuracy in percentage : 99.126420\n"
     ]
    }
   ],
   "source": [
    "acc = accuracy_score(y_true=y_test, y_pred=y_pred_rounded)*100\n",
    "print(\"Accuracy in percentage : %f\"%acc)"
   ]
  },
  {
   "cell_type": "code",
   "execution_count": 53,
   "metadata": {},
   "outputs": [],
   "source": [
    "labels = [\n",
    "    'BENIGN',\n",
    "    'DoS slowloris',\n",
    "    'DoS Slowhttptest',\n",
    "    'DoS Hulk',\n",
    "    'DoS GoldenEye',\n",
    "    'Heartbleed'\n",
    "]"
   ]
  },
  {
   "cell_type": "code",
   "execution_count": 54,
   "metadata": {},
   "outputs": [
    {
     "data": {
      "image/png": "[encoded data removed]",
      "text/plain": [
       "<Figure size 720x360 with 2 Axes>"
      ]
     },
     "metadata": {
      "needs_background": "light"
     },
     "output_type": "display_data"
    }
   ],
   "source": [
    "cm = confusion_matrix(y_pred=y_pred_rounded, y_true=y_test)\n",
    "plot_confusion_matrix(cm,classes=labels)"
   ]
  },
  {
   "cell_type": "code",
   "execution_count": 55,
   "metadata": {},
   "outputs": [
    {
     "data": {
      "text/plain": [
       "2768"
      ]
     },
     "execution_count": 55,
     "metadata": {},
     "output_type": "execute_result"
    }
   ],
   "source": [
    "from pathlib import Path\n",
    "import h5py\n",
    "\n",
    "model_structure = model.to_json()\n",
    "f = Path(model_str_path)\n",
    "f.write_text(model_structure)"
   ]
  },
  {
   "cell_type": "code",
   "execution_count": 56,
   "metadata": {},
   "outputs": [],
   "source": [
    "model.save_weights(model_weight_path)"
   ]
  },
  {
   "cell_type": "markdown",
   "metadata": {},
   "source": [
    "# Done"
   ]
  },
  {
   "cell_type": "code",
   "execution_count": null,
   "metadata": {},
   "outputs": [],
   "source": []
  }
 ],
 "metadata": {
  "kernelspec": {
   "display_name": "Python 3",
   "language": "python",
   "name": "python3"
  },
  "language_info": {
   "codemirror_mode": {
    "name": "ipython",
    "version": 3
   },
   "file_extension": ".py",
   "mimetype": "text/x-python",
   "name": "python",
   "nbconvert_exporter": "python",
   "pygments_lexer": "ipython3",
   "version": "3.8.3"
  }
 },
 "nbformat": 4,
 "nbformat_minor": 2
}
