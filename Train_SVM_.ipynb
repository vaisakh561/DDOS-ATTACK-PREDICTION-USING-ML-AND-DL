{
 "cells": [
  {
   "cell_type": "markdown",
   "metadata": {},
   "source": [
    "# importing the libraries"
   ]
  },
  {
   "cell_type": "code",
   "execution_count": 1,
   "metadata": {},
   "outputs": [],
   "source": [
    "import re\n",
    "import os\n",
    "import h5py\n",
    "import itertools\n",
    "import warnings\n",
    "warnings.filterwarnings('ignore')\n",
    "import pandas as pd\n",
    "import numpy as np\n",
    "%matplotlib inline\n",
    "import matplotlib.pyplot as plt\n",
    "import seaborn as sns\n",
    "from sklearn.utils import shuffle\n",
    "from sklearn.preprocessing import StandardScaler\n",
    "from sklearn.model_selection import train_test_split\n",
    "from sklearn.metrics import classification_report\n",
    "from sklearn.metrics import accuracy_score\n",
    "from sklearn.metrics import confusion_matrix"
   ]
  },
  {
   "cell_type": "code",
   "execution_count": 2,
   "metadata": {},
   "outputs": [],
   "source": [
    "in_dir = 'input'\n",
    "out_dir = 'processed'\n",
    "model_dir = 'model'"
   ]
  },
  {
   "cell_type": "code",
   "execution_count": 3,
   "metadata": {},
   "outputs": [
    {
     "name": "stdout",
     "output_type": "stream",
     "text": [
      "List of files and directories :  ['data.csv', 'ndata.csv']\n"
     ]
    }
   ],
   "source": [
    "file_name = 'data.csv'\n",
    "cleaned_fname =  'cdata.csv'\n",
    "train_fname = 'train.csv'\n",
    "test_fname = 'test.csv'\n",
    "\n",
    "print('List of files and directories : ',os.listdir(in_dir))"
   ]
  },
  {
   "cell_type": "code",
   "execution_count": 4,
   "metadata": {},
   "outputs": [],
   "source": [
    "input_file_path = os.path.join(in_dir,file_name)\n",
    "cleaned_file_path = os.path.join(out_dir,cleaned_fname)\n",
    "train_file_path = os.path.join(out_dir,train_fname)\n",
    "test_file_path = os.path.join(out_dir,test_fname)\n"
   ]
  },
  {
   "cell_type": "code",
   "execution_count": 5,
   "metadata": {},
   "outputs": [
    {
     "name": "stdout",
     "output_type": "stream",
     "text": [
      "Input data path :  input\\data.csv \n",
      "Clean data path :  processed\\cdata.csv \n",
      "Train-set path :  processed\\train.csv \n",
      "Test-set path :  processed\\test.csv\n"
     ]
    }
   ],
   "source": [
    "print('Input data path : ',input_file_path,\n",
    "      '\\nClean data path : ',cleaned_file_path,\n",
    "      '\\nTrain-set path : ', train_file_path,\n",
    "      '\\nTest-set path : ', test_file_path,\n",
    ")"
   ]
  },
  {
   "cell_type": "markdown",
   "metadata": {},
   "source": [
    "# data preprocessing"
   ]
  },
  {
   "cell_type": "code",
   "execution_count": 6,
   "metadata": {},
   "outputs": [],
   "source": [
    "df_data = pd.read_csv(input_file_path)"
   ]
  },
  {
   "cell_type": "code",
   "execution_count": 7,
   "metadata": {},
   "outputs": [
    {
     "data": {
      "text/html": [
       "<div>\n",
       "<style scoped>\n",
       "    .dataframe tbody tr th:only-of-type {\n",
       "        vertical-align: middle;\n",
       "    }\n",
       "\n",
       "    .dataframe tbody tr th {\n",
       "        vertical-align: top;\n",
       "    }\n",
       "\n",
       "    .dataframe thead th {\n",
       "        text-align: right;\n",
       "    }\n",
       "</style>\n",
       "<table border=\"1\" class=\"dataframe\">\n",
       "  <thead>\n",
       "    <tr style=\"text-align: right;\">\n",
       "      <th></th>\n",
       "      <th>Destination_Port</th>\n",
       "      <th>Flow_Duration</th>\n",
       "      <th>Total_Fwd_Packets</th>\n",
       "      <th>Total_Backward_Packets</th>\n",
       "      <th>Total_Length_of_Fwd_Packets</th>\n",
       "      <th>Total_Length_of_Bwd_Packets</th>\n",
       "      <th>Fwd_Packet_Length_Max</th>\n",
       "      <th>Fwd_Packet_Length_Min</th>\n",
       "      <th>Fwd_Packet_Length_Mean</th>\n",
       "      <th>Fwd_Packet_Length_Std</th>\n",
       "      <th>...</th>\n",
       "      <th>min_seg_size_forward</th>\n",
       "      <th>Active_Mean</th>\n",
       "      <th>Active_Std</th>\n",
       "      <th>Active_Max</th>\n",
       "      <th>Active_Min</th>\n",
       "      <th>Idle_Mean</th>\n",
       "      <th>Idle_Std</th>\n",
       "      <th>Idle_Max</th>\n",
       "      <th>Idle_Min</th>\n",
       "      <th>Label</th>\n",
       "    </tr>\n",
       "  </thead>\n",
       "  <tbody>\n",
       "    <tr>\n",
       "      <td>0</td>\n",
       "      <td>80</td>\n",
       "      <td>38308</td>\n",
       "      <td>1</td>\n",
       "      <td>1</td>\n",
       "      <td>6</td>\n",
       "      <td>6</td>\n",
       "      <td>6</td>\n",
       "      <td>6</td>\n",
       "      <td>6.000000</td>\n",
       "      <td>0.000000</td>\n",
       "      <td>...</td>\n",
       "      <td>20</td>\n",
       "      <td>0.0</td>\n",
       "      <td>0.0</td>\n",
       "      <td>0</td>\n",
       "      <td>0</td>\n",
       "      <td>0.0</td>\n",
       "      <td>0.0</td>\n",
       "      <td>0</td>\n",
       "      <td>0</td>\n",
       "      <td>BENIGN</td>\n",
       "    </tr>\n",
       "    <tr>\n",
       "      <td>1</td>\n",
       "      <td>389</td>\n",
       "      <td>479</td>\n",
       "      <td>11</td>\n",
       "      <td>5</td>\n",
       "      <td>172</td>\n",
       "      <td>326</td>\n",
       "      <td>79</td>\n",
       "      <td>0</td>\n",
       "      <td>15.636364</td>\n",
       "      <td>31.449238</td>\n",
       "      <td>...</td>\n",
       "      <td>32</td>\n",
       "      <td>0.0</td>\n",
       "      <td>0.0</td>\n",
       "      <td>0</td>\n",
       "      <td>0</td>\n",
       "      <td>0.0</td>\n",
       "      <td>0.0</td>\n",
       "      <td>0</td>\n",
       "      <td>0</td>\n",
       "      <td>BENIGN</td>\n",
       "    </tr>\n",
       "    <tr>\n",
       "      <td>2</td>\n",
       "      <td>88</td>\n",
       "      <td>1095</td>\n",
       "      <td>10</td>\n",
       "      <td>6</td>\n",
       "      <td>3150</td>\n",
       "      <td>3150</td>\n",
       "      <td>1575</td>\n",
       "      <td>0</td>\n",
       "      <td>315.000000</td>\n",
       "      <td>632.561635</td>\n",
       "      <td>...</td>\n",
       "      <td>32</td>\n",
       "      <td>0.0</td>\n",
       "      <td>0.0</td>\n",
       "      <td>0</td>\n",
       "      <td>0</td>\n",
       "      <td>0.0</td>\n",
       "      <td>0.0</td>\n",
       "      <td>0</td>\n",
       "      <td>0</td>\n",
       "      <td>BENIGN</td>\n",
       "    </tr>\n",
       "    <tr>\n",
       "      <td>3</td>\n",
       "      <td>389</td>\n",
       "      <td>15206</td>\n",
       "      <td>17</td>\n",
       "      <td>12</td>\n",
       "      <td>3452</td>\n",
       "      <td>6660</td>\n",
       "      <td>1313</td>\n",
       "      <td>0</td>\n",
       "      <td>203.058824</td>\n",
       "      <td>425.778474</td>\n",
       "      <td>...</td>\n",
       "      <td>32</td>\n",
       "      <td>0.0</td>\n",
       "      <td>0.0</td>\n",
       "      <td>0</td>\n",
       "      <td>0</td>\n",
       "      <td>0.0</td>\n",
       "      <td>0.0</td>\n",
       "      <td>0</td>\n",
       "      <td>0</td>\n",
       "      <td>BENIGN</td>\n",
       "    </tr>\n",
       "    <tr>\n",
       "      <td>4</td>\n",
       "      <td>88</td>\n",
       "      <td>1092</td>\n",
       "      <td>9</td>\n",
       "      <td>6</td>\n",
       "      <td>3150</td>\n",
       "      <td>3152</td>\n",
       "      <td>1575</td>\n",
       "      <td>0</td>\n",
       "      <td>350.000000</td>\n",
       "      <td>694.509719</td>\n",
       "      <td>...</td>\n",
       "      <td>32</td>\n",
       "      <td>0.0</td>\n",
       "      <td>0.0</td>\n",
       "      <td>0</td>\n",
       "      <td>0</td>\n",
       "      <td>0.0</td>\n",
       "      <td>0.0</td>\n",
       "      <td>0</td>\n",
       "      <td>0</td>\n",
       "      <td>BENIGN</td>\n",
       "    </tr>\n",
       "    <tr>\n",
       "      <td>...</td>\n",
       "      <td>...</td>\n",
       "      <td>...</td>\n",
       "      <td>...</td>\n",
       "      <td>...</td>\n",
       "      <td>...</td>\n",
       "      <td>...</td>\n",
       "      <td>...</td>\n",
       "      <td>...</td>\n",
       "      <td>...</td>\n",
       "      <td>...</td>\n",
       "      <td>...</td>\n",
       "      <td>...</td>\n",
       "      <td>...</td>\n",
       "      <td>...</td>\n",
       "      <td>...</td>\n",
       "      <td>...</td>\n",
       "      <td>...</td>\n",
       "      <td>...</td>\n",
       "      <td>...</td>\n",
       "      <td>...</td>\n",
       "      <td>...</td>\n",
       "    </tr>\n",
       "    <tr>\n",
       "      <td>692698</td>\n",
       "      <td>53</td>\n",
       "      <td>32215</td>\n",
       "      <td>4</td>\n",
       "      <td>2</td>\n",
       "      <td>112</td>\n",
       "      <td>152</td>\n",
       "      <td>28</td>\n",
       "      <td>28</td>\n",
       "      <td>28.000000</td>\n",
       "      <td>0.000000</td>\n",
       "      <td>...</td>\n",
       "      <td>20</td>\n",
       "      <td>0.0</td>\n",
       "      <td>0.0</td>\n",
       "      <td>0</td>\n",
       "      <td>0</td>\n",
       "      <td>0.0</td>\n",
       "      <td>0.0</td>\n",
       "      <td>0</td>\n",
       "      <td>0</td>\n",
       "      <td>BENIGN</td>\n",
       "    </tr>\n",
       "    <tr>\n",
       "      <td>692699</td>\n",
       "      <td>53</td>\n",
       "      <td>324</td>\n",
       "      <td>2</td>\n",
       "      <td>2</td>\n",
       "      <td>84</td>\n",
       "      <td>362</td>\n",
       "      <td>42</td>\n",
       "      <td>42</td>\n",
       "      <td>42.000000</td>\n",
       "      <td>0.000000</td>\n",
       "      <td>...</td>\n",
       "      <td>20</td>\n",
       "      <td>0.0</td>\n",
       "      <td>0.0</td>\n",
       "      <td>0</td>\n",
       "      <td>0</td>\n",
       "      <td>0.0</td>\n",
       "      <td>0.0</td>\n",
       "      <td>0</td>\n",
       "      <td>0</td>\n",
       "      <td>BENIGN</td>\n",
       "    </tr>\n",
       "    <tr>\n",
       "      <td>692700</td>\n",
       "      <td>58030</td>\n",
       "      <td>82</td>\n",
       "      <td>2</td>\n",
       "      <td>1</td>\n",
       "      <td>31</td>\n",
       "      <td>6</td>\n",
       "      <td>31</td>\n",
       "      <td>0</td>\n",
       "      <td>15.500000</td>\n",
       "      <td>21.920310</td>\n",
       "      <td>...</td>\n",
       "      <td>32</td>\n",
       "      <td>0.0</td>\n",
       "      <td>0.0</td>\n",
       "      <td>0</td>\n",
       "      <td>0</td>\n",
       "      <td>0.0</td>\n",
       "      <td>0.0</td>\n",
       "      <td>0</td>\n",
       "      <td>0</td>\n",
       "      <td>BENIGN</td>\n",
       "    </tr>\n",
       "    <tr>\n",
       "      <td>692701</td>\n",
       "      <td>53</td>\n",
       "      <td>1048635</td>\n",
       "      <td>6</td>\n",
       "      <td>2</td>\n",
       "      <td>192</td>\n",
       "      <td>256</td>\n",
       "      <td>32</td>\n",
       "      <td>32</td>\n",
       "      <td>32.000000</td>\n",
       "      <td>0.000000</td>\n",
       "      <td>...</td>\n",
       "      <td>20</td>\n",
       "      <td>0.0</td>\n",
       "      <td>0.0</td>\n",
       "      <td>0</td>\n",
       "      <td>0</td>\n",
       "      <td>0.0</td>\n",
       "      <td>0.0</td>\n",
       "      <td>0</td>\n",
       "      <td>0</td>\n",
       "      <td>BENIGN</td>\n",
       "    </tr>\n",
       "    <tr>\n",
       "      <td>692702</td>\n",
       "      <td>53</td>\n",
       "      <td>94939</td>\n",
       "      <td>4</td>\n",
       "      <td>2</td>\n",
       "      <td>188</td>\n",
       "      <td>226</td>\n",
       "      <td>47</td>\n",
       "      <td>47</td>\n",
       "      <td>47.000000</td>\n",
       "      <td>0.000000</td>\n",
       "      <td>...</td>\n",
       "      <td>20</td>\n",
       "      <td>0.0</td>\n",
       "      <td>0.0</td>\n",
       "      <td>0</td>\n",
       "      <td>0</td>\n",
       "      <td>0.0</td>\n",
       "      <td>0.0</td>\n",
       "      <td>0</td>\n",
       "      <td>0</td>\n",
       "      <td>BENIGN</td>\n",
       "    </tr>\n",
       "  </tbody>\n",
       "</table>\n",
       "<p>692703 rows × 79 columns</p>\n",
       "</div>"
      ],
      "text/plain": [
       "        Destination_Port  Flow_Duration  Total_Fwd_Packets  \\\n",
       "0                     80          38308                  1   \n",
       "1                    389            479                 11   \n",
       "2                     88           1095                 10   \n",
       "3                    389          15206                 17   \n",
       "4                     88           1092                  9   \n",
       "...                  ...            ...                ...   \n",
       "692698                53          32215                  4   \n",
       "692699                53            324                  2   \n",
       "692700             58030             82                  2   \n",
       "692701                53        1048635                  6   \n",
       "692702                53          94939                  4   \n",
       "\n",
       "        Total_Backward_Packets  Total_Length_of_Fwd_Packets  \\\n",
       "0                            1                            6   \n",
       "1                            5                          172   \n",
       "2                            6                         3150   \n",
       "3                           12                         3452   \n",
       "4                            6                         3150   \n",
       "...                        ...                          ...   \n",
       "692698                       2                          112   \n",
       "692699                       2                           84   \n",
       "692700                       1                           31   \n",
       "692701                       2                          192   \n",
       "692702                       2                          188   \n",
       "\n",
       "        Total_Length_of_Bwd_Packets  Fwd_Packet_Length_Max  \\\n",
       "0                                 6                      6   \n",
       "1                               326                     79   \n",
       "2                              3150                   1575   \n",
       "3                              6660                   1313   \n",
       "4                              3152                   1575   \n",
       "...                             ...                    ...   \n",
       "692698                          152                     28   \n",
       "692699                          362                     42   \n",
       "692700                            6                     31   \n",
       "692701                          256                     32   \n",
       "692702                          226                     47   \n",
       "\n",
       "        Fwd_Packet_Length_Min  Fwd_Packet_Length_Mean  Fwd_Packet_Length_Std  \\\n",
       "0                           6                6.000000               0.000000   \n",
       "1                           0               15.636364              31.449238   \n",
       "2                           0              315.000000             632.561635   \n",
       "3                           0              203.058824             425.778474   \n",
       "4                           0              350.000000             694.509719   \n",
       "...                       ...                     ...                    ...   \n",
       "692698                     28               28.000000               0.000000   \n",
       "692699                     42               42.000000               0.000000   \n",
       "692700                      0               15.500000              21.920310   \n",
       "692701                     32               32.000000               0.000000   \n",
       "692702                     47               47.000000               0.000000   \n",
       "\n",
       "        ...  min_seg_size_forward  Active_Mean  Active_Std  Active_Max  \\\n",
       "0       ...                    20          0.0         0.0           0   \n",
       "1       ...                    32          0.0         0.0           0   \n",
       "2       ...                    32          0.0         0.0           0   \n",
       "3       ...                    32          0.0         0.0           0   \n",
       "4       ...                    32          0.0         0.0           0   \n",
       "...     ...                   ...          ...         ...         ...   \n",
       "692698  ...                    20          0.0         0.0           0   \n",
       "692699  ...                    20          0.0         0.0           0   \n",
       "692700  ...                    32          0.0         0.0           0   \n",
       "692701  ...                    20          0.0         0.0           0   \n",
       "692702  ...                    20          0.0         0.0           0   \n",
       "\n",
       "       Active_Min Idle_Mean  Idle_Std  Idle_Max  Idle_Min   Label  \n",
       "0               0       0.0       0.0         0         0  BENIGN  \n",
       "1               0       0.0       0.0         0         0  BENIGN  \n",
       "2               0       0.0       0.0         0         0  BENIGN  \n",
       "3               0       0.0       0.0         0         0  BENIGN  \n",
       "4               0       0.0       0.0         0         0  BENIGN  \n",
       "...           ...       ...       ...       ...       ...     ...  \n",
       "692698          0       0.0       0.0         0         0  BENIGN  \n",
       "692699          0       0.0       0.0         0         0  BENIGN  \n",
       "692700          0       0.0       0.0         0         0  BENIGN  \n",
       "692701          0       0.0       0.0         0         0  BENIGN  \n",
       "692702          0       0.0       0.0         0         0  BENIGN  \n",
       "\n",
       "[692703 rows x 79 columns]"
      ]
     },
     "execution_count": 7,
     "metadata": {},
     "output_type": "execute_result"
    }
   ],
   "source": [
    "df_data"
   ]
  },
  {
   "cell_type": "code",
   "execution_count": 7,
   "metadata": {},
   "outputs": [],
   "source": [
    "df_data = shuffle(df_data)"
   ]
  },
  {
   "cell_type": "code",
   "execution_count": 8,
   "metadata": {},
   "outputs": [
    {
     "data": {
      "text/plain": [
       "(692703, 79)"
      ]
     },
     "execution_count": 8,
     "metadata": {},
     "output_type": "execute_result"
    }
   ],
   "source": [
    "df_data.shape"
   ]
  },
  {
   "cell_type": "code",
   "execution_count": 9,
   "metadata": {},
   "outputs": [
    {
     "name": "stdout",
     "output_type": "stream",
     "text": [
      "<class 'pandas.core.frame.DataFrame'>\n",
      "Int64Index: 692703 entries, 319844 to 261179\n",
      "Data columns (total 79 columns):\n",
      "Destination_Port               692703 non-null int64\n",
      "Flow_Duration                  692703 non-null int64\n",
      "Total_Fwd_Packets              692703 non-null int64\n",
      "Total_Backward_Packets         692703 non-null int64\n",
      "Total_Length_of_Fwd_Packets    692703 non-null int64\n",
      "Total_Length_of_Bwd_Packets    692703 non-null int64\n",
      "Fwd_Packet_Length_Max          692703 non-null int64\n",
      "Fwd_Packet_Length_Min          692703 non-null int64\n",
      "Fwd_Packet_Length_Mean         692703 non-null float64\n",
      "Fwd_Packet_Length_Std          692703 non-null float64\n",
      "Bwd_Packet_Length_Max          692703 non-null int64\n",
      "Bwd_Packet_Length_Min          692703 non-null int64\n",
      "Bwd_Packet_Length_Mean         692703 non-null float64\n",
      "Bwd_Packet_Length_Std          692703 non-null float64\n",
      "Flow_Bytes_Per_Sec             691695 non-null object\n",
      "Flow_Packets_Per_Sec           692703 non-null object\n",
      "Flow_IAT_Mean                  692703 non-null float64\n",
      "Flow_IAT_Std                   692703 non-null float64\n",
      "Flow_IAT_Max                   692703 non-null int64\n",
      "Flow_IAT_Min                   692703 non-null int64\n",
      "Fwd_IAT_Total                  692703 non-null int64\n",
      "Fwd_IAT_Mean                   692703 non-null float64\n",
      "Fwd_IAT_Std                    692703 non-null float64\n",
      "Fwd_IAT_Max                    692703 non-null int64\n",
      "Fwd_IAT_Min                    692703 non-null int64\n",
      "Bwd_IAT_Total                  692703 non-null int64\n",
      "Bwd_IAT_Mean                   692703 non-null float64\n",
      "Bwd_IAT_Std                    692703 non-null float64\n",
      "Bwd_IAT_Max                    692703 non-null int64\n",
      "Bwd_IAT_Min                    692703 non-null int64\n",
      "Fwd_PSH_Flags                  692703 non-null int64\n",
      "Bwd_PSH_Flags                  692703 non-null int64\n",
      "Fwd_URG_Flags                  692703 non-null int64\n",
      "Bwd_URG_Flags                  692703 non-null int64\n",
      "Fwd_Header_Length              692703 non-null int64\n",
      "Bwd_Header_Length              692703 non-null int64\n",
      "Fwd_Packets_s                  692703 non-null float64\n",
      "Bwd_Packets_s                  692703 non-null float64\n",
      "Min_Packet_Length              692703 non-null int64\n",
      "Max_Packet_Length              692703 non-null int64\n",
      "Packet_Length_Mean             692703 non-null float64\n",
      "Packet_Length_Std              692703 non-null float64\n",
      "Packet_Length_Variance         692703 non-null float64\n",
      "FIN_Flag_Count                 692703 non-null int64\n",
      "SYN_Flag_Count                 692703 non-null int64\n",
      "RST_Flag_Count                 692703 non-null int64\n",
      "PSH_Flag_Count                 692703 non-null int64\n",
      "ACK_Flag_Count                 692703 non-null int64\n",
      "URG_Flag_Count                 692703 non-null int64\n",
      "CWE_Flag_Count                 692703 non-null int64\n",
      "ECE_Flag_Count                 692703 non-null int64\n",
      "Down_Up_Ratio                  692703 non-null int64\n",
      "Average_Packet_Size            692703 non-null float64\n",
      "Avg_Fwd_Segment_Size           692703 non-null float64\n",
      "Avg_Bwd_Segment_Size           692703 non-null float64\n",
      "Fwd_Header_Length.1            692703 non-null int64\n",
      "Fwd_Avg_Bytes_Bulk             692703 non-null int64\n",
      "Fwd_Avg_Packets_Bulk           692703 non-null int64\n",
      "Fwd_Avg_Bulk_Rate              692703 non-null int64\n",
      "Bwd_Avg_Bytes_Bulk             692703 non-null int64\n",
      "Bwd_Avg_Packets_Bulk           692703 non-null int64\n",
      "Bwd_Avg_Bulk_Rate              692703 non-null int64\n",
      "Subflow_Fwd_Packets            692703 non-null int64\n",
      "Subflow_Fwd_Bytes              692703 non-null int64\n",
      "Subflow_Bwd_Packets            692703 non-null int64\n",
      "Subflow_Bwd_Bytes              692703 non-null int64\n",
      "Init_Win_bytes_forward         692703 non-null int64\n",
      "Init_Win_bytes_backward        692703 non-null int64\n",
      "act_data_pkt_fwd               692703 non-null int64\n",
      "min_seg_size_forward           692703 non-null int64\n",
      "Active_Mean                    692703 non-null float64\n",
      "Active_Std                     692703 non-null float64\n",
      "Active_Max                     692703 non-null int64\n",
      "Active_Min                     692703 non-null int64\n",
      "Idle_Mean                      692703 non-null float64\n",
      "Idle_Std                       692703 non-null float64\n",
      "Idle_Max                       692703 non-null int64\n",
      "Idle_Min                       692703 non-null int64\n",
      "Label                          692703 non-null object\n",
      "dtypes: float64(22), int64(54), object(3)\n",
      "memory usage: 422.8+ MB\n"
     ]
    }
   ],
   "source": [
    "df_data.info()"
   ]
  },
  {
   "cell_type": "code",
   "execution_count": 10,
   "metadata": {},
   "outputs": [
    {
     "data": {
      "text/plain": [
       "BENIGN              440031\n",
       "DoS Hulk            231073\n",
       "DoS GoldenEye        10293\n",
       "DoS slowloris         5796\n",
       "DoS Slowhttptest      5499\n",
       "Heartbleed              11\n",
       "Name: Label, dtype: int64"
      ]
     },
     "execution_count": 10,
     "metadata": {},
     "output_type": "execute_result"
    }
   ],
   "source": [
    "df_data.Label.value_counts()"
   ]
  },
  {
   "cell_type": "code",
   "execution_count": 11,
   "metadata": {},
   "outputs": [
    {
     "data": {
      "text/plain": [
       "str"
      ]
     },
     "execution_count": 11,
     "metadata": {},
     "output_type": "execute_result"
    }
   ],
   "source": [
    "type(df_data['Flow_Bytes_Per_Sec'][0])"
   ]
  },
  {
   "cell_type": "code",
   "execution_count": 13,
   "metadata": {},
   "outputs": [],
   "source": [
    "def numeric(row):\n",
    "    try:\n",
    "        if np.isnan(row):\n",
    "            return\n",
    "        else:\n",
    "            row = str(row)\n",
    "            return float(re.sub(\"\\D\\.\", \"\", row))\n",
    "    except TypeError:\n",
    "        row = str(row)\n",
    "        return float(re.sub(\"\\D\\.\", \"\", row))"
   ]
  },
  {
   "cell_type": "code",
   "execution_count": 14,
   "metadata": {},
   "outputs": [],
   "source": [
    "df_data['Flow_Bytes_Per_Sec'] = df_data['Flow_Bytes_Per_Sec'].apply(numeric)\n",
    "df_data['Flow_Packets_Per_Sec'] = df_data['Flow_Packets_Per_Sec'].apply(numeric)"
   ]
  },
  {
   "cell_type": "code",
   "execution_count": 15,
   "metadata": {},
   "outputs": [
    {
     "data": {
      "text/plain": [
       "Destination_Port               0\n",
       "Flow_Duration                  0\n",
       "Total_Fwd_Packets              0\n",
       "Total_Backward_Packets         0\n",
       "Total_Length_of_Fwd_Packets    0\n",
       "                              ..\n",
       "Idle_Mean                      0\n",
       "Idle_Std                       0\n",
       "Idle_Max                       0\n",
       "Idle_Min                       0\n",
       "Label                          0\n",
       "Length: 79, dtype: int64"
      ]
     },
     "execution_count": 15,
     "metadata": {},
     "output_type": "execute_result"
    }
   ],
   "source": [
    "df_data.isna().sum()"
   ]
  },
  {
   "cell_type": "code",
   "execution_count": 16,
   "metadata": {},
   "outputs": [],
   "source": [
    "df_data.Flow_Bytes_Per_Sec.fillna(value=df_data.Flow_Bytes_Per_Sec.median(), inplace=True)"
   ]
  },
  {
   "cell_type": "code",
   "execution_count": 17,
   "metadata": {},
   "outputs": [
    {
     "data": {
      "text/plain": [
       "Destination_Port               0\n",
       "Flow_Duration                  0\n",
       "Total_Fwd_Packets              0\n",
       "Total_Backward_Packets         0\n",
       "Total_Length_of_Fwd_Packets    0\n",
       "                              ..\n",
       "Idle_Mean                      0\n",
       "Idle_Std                       0\n",
       "Idle_Max                       0\n",
       "Idle_Min                       0\n",
       "Label                          0\n",
       "Length: 79, dtype: int64"
      ]
     },
     "execution_count": 17,
     "metadata": {},
     "output_type": "execute_result"
    }
   ],
   "source": [
    "df_data.isna().sum()"
   ]
  },
  {
   "cell_type": "code",
   "execution_count": 18,
   "metadata": {},
   "outputs": [
    {
     "data": {
      "text/html": [
       "<div>\n",
       "<style scoped>\n",
       "    .dataframe tbody tr th:only-of-type {\n",
       "        vertical-align: middle;\n",
       "    }\n",
       "\n",
       "    .dataframe tbody tr th {\n",
       "        vertical-align: top;\n",
       "    }\n",
       "\n",
       "    .dataframe thead th {\n",
       "        text-align: right;\n",
       "    }\n",
       "</style>\n",
       "<table border=\"1\" class=\"dataframe\">\n",
       "  <thead>\n",
       "    <tr style=\"text-align: right;\">\n",
       "      <th></th>\n",
       "      <th>Destination_Port</th>\n",
       "      <th>Flow_Duration</th>\n",
       "      <th>Total_Fwd_Packets</th>\n",
       "      <th>Total_Backward_Packets</th>\n",
       "      <th>Total_Length_of_Fwd_Packets</th>\n",
       "      <th>Total_Length_of_Bwd_Packets</th>\n",
       "      <th>Fwd_Packet_Length_Max</th>\n",
       "      <th>Fwd_Packet_Length_Min</th>\n",
       "      <th>Fwd_Packet_Length_Mean</th>\n",
       "      <th>Fwd_Packet_Length_Std</th>\n",
       "      <th>...</th>\n",
       "      <th>min_seg_size_forward</th>\n",
       "      <th>Active_Mean</th>\n",
       "      <th>Active_Std</th>\n",
       "      <th>Active_Max</th>\n",
       "      <th>Active_Min</th>\n",
       "      <th>Idle_Mean</th>\n",
       "      <th>Idle_Std</th>\n",
       "      <th>Idle_Max</th>\n",
       "      <th>Idle_Min</th>\n",
       "      <th>Label</th>\n",
       "    </tr>\n",
       "  </thead>\n",
       "  <tbody>\n",
       "    <tr>\n",
       "      <td>319844</td>\n",
       "      <td>80</td>\n",
       "      <td>989</td>\n",
       "      <td>4</td>\n",
       "      <td>0</td>\n",
       "      <td>0</td>\n",
       "      <td>0</td>\n",
       "      <td>0</td>\n",
       "      <td>0</td>\n",
       "      <td>0.000000</td>\n",
       "      <td>0.000000</td>\n",
       "      <td>...</td>\n",
       "      <td>32</td>\n",
       "      <td>0.0000</td>\n",
       "      <td>0.000</td>\n",
       "      <td>0</td>\n",
       "      <td>0</td>\n",
       "      <td>0.0</td>\n",
       "      <td>0.000000</td>\n",
       "      <td>0</td>\n",
       "      <td>0</td>\n",
       "      <td>DoS Hulk</td>\n",
       "    </tr>\n",
       "    <tr>\n",
       "      <td>566224</td>\n",
       "      <td>53</td>\n",
       "      <td>30906</td>\n",
       "      <td>2</td>\n",
       "      <td>2</td>\n",
       "      <td>68</td>\n",
       "      <td>150</td>\n",
       "      <td>34</td>\n",
       "      <td>34</td>\n",
       "      <td>34.000000</td>\n",
       "      <td>0.000000</td>\n",
       "      <td>...</td>\n",
       "      <td>20</td>\n",
       "      <td>0.0000</td>\n",
       "      <td>0.000</td>\n",
       "      <td>0</td>\n",
       "      <td>0</td>\n",
       "      <td>0.0</td>\n",
       "      <td>0.000000</td>\n",
       "      <td>0</td>\n",
       "      <td>0</td>\n",
       "      <td>BENIGN</td>\n",
       "    </tr>\n",
       "    <tr>\n",
       "      <td>98884</td>\n",
       "      <td>80</td>\n",
       "      <td>98474725</td>\n",
       "      <td>8</td>\n",
       "      <td>7</td>\n",
       "      <td>724</td>\n",
       "      <td>11595</td>\n",
       "      <td>350</td>\n",
       "      <td>0</td>\n",
       "      <td>90.500000</td>\n",
       "      <td>160.188282</td>\n",
       "      <td>...</td>\n",
       "      <td>20</td>\n",
       "      <td>12975.0000</td>\n",
       "      <td>0.000</td>\n",
       "      <td>12975</td>\n",
       "      <td>12975</td>\n",
       "      <td>98100000.0</td>\n",
       "      <td>0.000000</td>\n",
       "      <td>98100000</td>\n",
       "      <td>98100000</td>\n",
       "      <td>DoS Hulk</td>\n",
       "    </tr>\n",
       "    <tr>\n",
       "      <td>119223</td>\n",
       "      <td>80</td>\n",
       "      <td>85008027</td>\n",
       "      <td>7</td>\n",
       "      <td>5</td>\n",
       "      <td>316</td>\n",
       "      <td>11595</td>\n",
       "      <td>316</td>\n",
       "      <td>0</td>\n",
       "      <td>45.142857</td>\n",
       "      <td>119.436774</td>\n",
       "      <td>...</td>\n",
       "      <td>32</td>\n",
       "      <td>5.0000</td>\n",
       "      <td>0.000</td>\n",
       "      <td>5</td>\n",
       "      <td>5</td>\n",
       "      <td>84900000.0</td>\n",
       "      <td>0.000000</td>\n",
       "      <td>84900000</td>\n",
       "      <td>84900000</td>\n",
       "      <td>DoS Hulk</td>\n",
       "    </tr>\n",
       "    <tr>\n",
       "      <td>481350</td>\n",
       "      <td>443</td>\n",
       "      <td>116899412</td>\n",
       "      <td>39</td>\n",
       "      <td>37</td>\n",
       "      <td>713</td>\n",
       "      <td>34033</td>\n",
       "      <td>324</td>\n",
       "      <td>0</td>\n",
       "      <td>18.282051</td>\n",
       "      <td>64.392280</td>\n",
       "      <td>...</td>\n",
       "      <td>32</td>\n",
       "      <td>156886.3636</td>\n",
       "      <td>422270.239</td>\n",
       "      <td>1430079</td>\n",
       "      <td>29419</td>\n",
       "      <td>10000000.0</td>\n",
       "      <td>7300.086169</td>\n",
       "      <td>10000000</td>\n",
       "      <td>9996097</td>\n",
       "      <td>BENIGN</td>\n",
       "    </tr>\n",
       "  </tbody>\n",
       "</table>\n",
       "<p>5 rows × 79 columns</p>\n",
       "</div>"
      ],
      "text/plain": [
       "        Destination_Port  Flow_Duration  Total_Fwd_Packets  \\\n",
       "319844                80            989                  4   \n",
       "566224                53          30906                  2   \n",
       "98884                 80       98474725                  8   \n",
       "119223                80       85008027                  7   \n",
       "481350               443      116899412                 39   \n",
       "\n",
       "        Total_Backward_Packets  Total_Length_of_Fwd_Packets  \\\n",
       "319844                       0                            0   \n",
       "566224                       2                           68   \n",
       "98884                        7                          724   \n",
       "119223                       5                          316   \n",
       "481350                      37                          713   \n",
       "\n",
       "        Total_Length_of_Bwd_Packets  Fwd_Packet_Length_Max  \\\n",
       "319844                            0                      0   \n",
       "566224                          150                     34   \n",
       "98884                         11595                    350   \n",
       "119223                        11595                    316   \n",
       "481350                        34033                    324   \n",
       "\n",
       "        Fwd_Packet_Length_Min  Fwd_Packet_Length_Mean  Fwd_Packet_Length_Std  \\\n",
       "319844                      0                0.000000               0.000000   \n",
       "566224                     34               34.000000               0.000000   \n",
       "98884                       0               90.500000             160.188282   \n",
       "119223                      0               45.142857             119.436774   \n",
       "481350                      0               18.282051              64.392280   \n",
       "\n",
       "        ...  min_seg_size_forward  Active_Mean  Active_Std  Active_Max  \\\n",
       "319844  ...                    32       0.0000       0.000           0   \n",
       "566224  ...                    20       0.0000       0.000           0   \n",
       "98884   ...                    20   12975.0000       0.000       12975   \n",
       "119223  ...                    32       5.0000       0.000           5   \n",
       "481350  ...                    32  156886.3636  422270.239     1430079   \n",
       "\n",
       "        Active_Min   Idle_Mean     Idle_Std  Idle_Max  Idle_Min     Label  \n",
       "319844           0         0.0     0.000000         0         0  DoS Hulk  \n",
       "566224           0         0.0     0.000000         0         0    BENIGN  \n",
       "98884        12975  98100000.0     0.000000  98100000  98100000  DoS Hulk  \n",
       "119223           5  84900000.0     0.000000  84900000  84900000  DoS Hulk  \n",
       "481350       29419  10000000.0  7300.086169  10000000   9996097    BENIGN  \n",
       "\n",
       "[5 rows x 79 columns]"
      ]
     },
     "execution_count": 18,
     "metadata": {},
     "output_type": "execute_result"
    }
   ],
   "source": [
    "df_data.head()"
   ]
  },
  {
   "cell_type": "code",
   "execution_count": 19,
   "metadata": {},
   "outputs": [],
   "source": [
    "def nullAnalysis(df):\n",
    "    tab_info=pd.DataFrame(df.dtypes).T.rename(index={0:'column type'})\n",
    "\n",
    "    tab_info=tab_info.append(pd.DataFrame(df.isnull().sum()).T.rename(index={0:'null values (nb)'}))\n",
    "    tab_info=tab_info.append(pd.DataFrame(df.isnull().sum()/df.shape[0]*100).T.rename(index={0:'null values (%)'}))\n",
    "    return tab_info"
   ]
  },
  {
   "cell_type": "code",
   "execution_count": 20,
   "metadata": {},
   "outputs": [
    {
     "data": {
      "text/html": [
       "<div>\n",
       "<style scoped>\n",
       "    .dataframe tbody tr th:only-of-type {\n",
       "        vertical-align: middle;\n",
       "    }\n",
       "\n",
       "    .dataframe tbody tr th {\n",
       "        vertical-align: top;\n",
       "    }\n",
       "\n",
       "    .dataframe thead th {\n",
       "        text-align: right;\n",
       "    }\n",
       "</style>\n",
       "<table border=\"1\" class=\"dataframe\">\n",
       "  <thead>\n",
       "    <tr style=\"text-align: right;\">\n",
       "      <th></th>\n",
       "      <th>Destination_Port</th>\n",
       "      <th>Flow_Duration</th>\n",
       "      <th>Total_Fwd_Packets</th>\n",
       "      <th>Total_Backward_Packets</th>\n",
       "      <th>Total_Length_of_Fwd_Packets</th>\n",
       "      <th>Total_Length_of_Bwd_Packets</th>\n",
       "      <th>Fwd_Packet_Length_Max</th>\n",
       "      <th>Fwd_Packet_Length_Min</th>\n",
       "      <th>Fwd_Packet_Length_Mean</th>\n",
       "      <th>Fwd_Packet_Length_Std</th>\n",
       "      <th>...</th>\n",
       "      <th>min_seg_size_forward</th>\n",
       "      <th>Active_Mean</th>\n",
       "      <th>Active_Std</th>\n",
       "      <th>Active_Max</th>\n",
       "      <th>Active_Min</th>\n",
       "      <th>Idle_Mean</th>\n",
       "      <th>Idle_Std</th>\n",
       "      <th>Idle_Max</th>\n",
       "      <th>Idle_Min</th>\n",
       "      <th>Label</th>\n",
       "    </tr>\n",
       "  </thead>\n",
       "  <tbody>\n",
       "    <tr>\n",
       "      <td>column type</td>\n",
       "      <td>int64</td>\n",
       "      <td>int64</td>\n",
       "      <td>int64</td>\n",
       "      <td>int64</td>\n",
       "      <td>int64</td>\n",
       "      <td>int64</td>\n",
       "      <td>int64</td>\n",
       "      <td>int64</td>\n",
       "      <td>float64</td>\n",
       "      <td>float64</td>\n",
       "      <td>...</td>\n",
       "      <td>int64</td>\n",
       "      <td>float64</td>\n",
       "      <td>float64</td>\n",
       "      <td>int64</td>\n",
       "      <td>int64</td>\n",
       "      <td>float64</td>\n",
       "      <td>float64</td>\n",
       "      <td>int64</td>\n",
       "      <td>int64</td>\n",
       "      <td>object</td>\n",
       "    </tr>\n",
       "    <tr>\n",
       "      <td>null values (nb)</td>\n",
       "      <td>0</td>\n",
       "      <td>0</td>\n",
       "      <td>0</td>\n",
       "      <td>0</td>\n",
       "      <td>0</td>\n",
       "      <td>0</td>\n",
       "      <td>0</td>\n",
       "      <td>0</td>\n",
       "      <td>0</td>\n",
       "      <td>0</td>\n",
       "      <td>...</td>\n",
       "      <td>0</td>\n",
       "      <td>0</td>\n",
       "      <td>0</td>\n",
       "      <td>0</td>\n",
       "      <td>0</td>\n",
       "      <td>0</td>\n",
       "      <td>0</td>\n",
       "      <td>0</td>\n",
       "      <td>0</td>\n",
       "      <td>0</td>\n",
       "    </tr>\n",
       "    <tr>\n",
       "      <td>null values (%)</td>\n",
       "      <td>0</td>\n",
       "      <td>0</td>\n",
       "      <td>0</td>\n",
       "      <td>0</td>\n",
       "      <td>0</td>\n",
       "      <td>0</td>\n",
       "      <td>0</td>\n",
       "      <td>0</td>\n",
       "      <td>0</td>\n",
       "      <td>0</td>\n",
       "      <td>...</td>\n",
       "      <td>0</td>\n",
       "      <td>0</td>\n",
       "      <td>0</td>\n",
       "      <td>0</td>\n",
       "      <td>0</td>\n",
       "      <td>0</td>\n",
       "      <td>0</td>\n",
       "      <td>0</td>\n",
       "      <td>0</td>\n",
       "      <td>0</td>\n",
       "    </tr>\n",
       "  </tbody>\n",
       "</table>\n",
       "<p>3 rows × 79 columns</p>\n",
       "</div>"
      ],
      "text/plain": [
       "                 Destination_Port Flow_Duration Total_Fwd_Packets  \\\n",
       "column type                 int64         int64             int64   \n",
       "null values (nb)                0             0                 0   \n",
       "null values (%)                 0             0                 0   \n",
       "\n",
       "                 Total_Backward_Packets Total_Length_of_Fwd_Packets  \\\n",
       "column type                       int64                       int64   \n",
       "null values (nb)                      0                           0   \n",
       "null values (%)                       0                           0   \n",
       "\n",
       "                 Total_Length_of_Bwd_Packets Fwd_Packet_Length_Max  \\\n",
       "column type                            int64                 int64   \n",
       "null values (nb)                           0                     0   \n",
       "null values (%)                            0                     0   \n",
       "\n",
       "                 Fwd_Packet_Length_Min Fwd_Packet_Length_Mean  \\\n",
       "column type                      int64                float64   \n",
       "null values (nb)                     0                      0   \n",
       "null values (%)                      0                      0   \n",
       "\n",
       "                 Fwd_Packet_Length_Std  ... min_seg_size_forward Active_Mean  \\\n",
       "column type                    float64  ...                int64     float64   \n",
       "null values (nb)                     0  ...                    0           0   \n",
       "null values (%)                      0  ...                    0           0   \n",
       "\n",
       "                 Active_Std Active_Max Active_Min Idle_Mean Idle_Std Idle_Max  \\\n",
       "column type         float64      int64      int64   float64  float64    int64   \n",
       "null values (nb)          0          0          0         0        0        0   \n",
       "null values (%)           0          0          0         0        0        0   \n",
       "\n",
       "                 Idle_Min   Label  \n",
       "column type         int64  object  \n",
       "null values (nb)        0       0  \n",
       "null values (%)         0       0  \n",
       "\n",
       "[3 rows x 79 columns]"
      ]
     },
     "execution_count": 20,
     "metadata": {},
     "output_type": "execute_result"
    }
   ],
   "source": [
    "nullAnalysis(df_data)"
   ]
  },
  {
   "cell_type": "code",
   "execution_count": 21,
   "metadata": {},
   "outputs": [
    {
     "data": {
      "text/plain": [
       "array(['DoS Hulk', 'BENIGN', 'DoS Slowhttptest', 'DoS GoldenEye',\n",
       "       'DoS slowloris', 'Heartbleed'], dtype=object)"
      ]
     },
     "execution_count": 21,
     "metadata": {},
     "output_type": "execute_result"
    }
   ],
   "source": [
    "df_data.Label.unique()"
   ]
  },
  {
   "cell_type": "code",
   "execution_count": 22,
   "metadata": {},
   "outputs": [
    {
     "data": {
      "text/plain": [
       "BENIGN              440031\n",
       "DoS Hulk            231073\n",
       "DoS GoldenEye        10293\n",
       "DoS slowloris         5796\n",
       "DoS Slowhttptest      5499\n",
       "Heartbleed              11\n",
       "Name: Label, dtype: int64"
      ]
     },
     "execution_count": 22,
     "metadata": {},
     "output_type": "execute_result"
    }
   ],
   "source": [
    "df_data.Label.value_counts()"
   ]
  },
  {
   "cell_type": "code",
   "execution_count": 23,
   "metadata": {},
   "outputs": [],
   "source": [
    "df_data.Label.replace(inplace=True, to_replace= df_data.Label.unique(), value=np.arange(len(df_data.Label.unique())))"
   ]
  },
  {
   "cell_type": "code",
   "execution_count": 24,
   "metadata": {},
   "outputs": [
    {
     "data": {
      "text/plain": [
       "1    440031\n",
       "0    231073\n",
       "3     10293\n",
       "4      5796\n",
       "2      5499\n",
       "5        11\n",
       "Name: Label, dtype: int64"
      ]
     },
     "execution_count": 24,
     "metadata": {},
     "output_type": "execute_result"
    }
   ],
   "source": [
    "df_data.Label.value_counts()"
   ]
  },
  {
   "cell_type": "code",
   "execution_count": 25,
   "metadata": {},
   "outputs": [
    {
     "data": {
      "text/plain": [
       "False"
      ]
     },
     "execution_count": 25,
     "metadata": {},
     "output_type": "execute_result"
    }
   ],
   "source": [
    "np.isnan(df_data.values.any())"
   ]
  },
  {
   "cell_type": "code",
   "execution_count": 26,
   "metadata": {},
   "outputs": [
    {
     "data": {
      "text/plain": [
       "Int64Index([119657, 226587,  28386,  28386, 274724, 314210, 312966, 314159,\n",
       "            305377, 288859,\n",
       "            ...\n",
       "            344844, 133283, 416975, 416975,  88367, 115332, 312441, 171248,\n",
       "             14379,  14379],\n",
       "           dtype='int64', length=1586)"
      ]
     },
     "execution_count": 26,
     "metadata": {},
     "output_type": "execute_result"
    }
   ],
   "source": [
    "val = df_data[df_data.values >= np.finfo(np.float64).max]\n",
    "val.index"
   ]
  },
  {
   "cell_type": "code",
   "execution_count": 27,
   "metadata": {},
   "outputs": [],
   "source": [
    "df_data.drop(index=val.index, inplace=True)"
   ]
  },
  {
   "cell_type": "code",
   "execution_count": 28,
   "metadata": {},
   "outputs": [
    {
     "data": {
      "text/plain": [
       "(691406, 79)"
      ]
     },
     "execution_count": 28,
     "metadata": {},
     "output_type": "execute_result"
    }
   ],
   "source": [
    "df_data.shape"
   ]
  },
  {
   "cell_type": "code",
   "execution_count": 29,
   "metadata": {},
   "outputs": [],
   "source": [
    "df_data.to_csv(cleaned_file_path,index=False)"
   ]
  },
  {
   "cell_type": "markdown",
   "metadata": {},
   "source": [
    "# SVM Model"
   ]
  },
  {
   "cell_type": "code",
   "execution_count": 30,
   "metadata": {},
   "outputs": [],
   "source": [
    "df_data = pd.read_csv(cleaned_file_path)"
   ]
  },
  {
   "cell_type": "code",
   "execution_count": 31,
   "metadata": {},
   "outputs": [],
   "source": [
    "y = df_data['Label']\n",
    "x = df_data.drop('Label',axis = 1)"
   ]
  },
  {
   "cell_type": "code",
   "execution_count": 32,
   "metadata": {},
   "outputs": [],
   "source": [
    "x_train, x_test, y_train, y_test = train_test_split(x, y, test_size= 0.25, random_state=42)"
   ]
  },
  {
   "cell_type": "code",
   "execution_count": 33,
   "metadata": {},
   "outputs": [
    {
     "name": "stdout",
     "output_type": "stream",
     "text": [
      "(518554, 78) (518554,) (172852, 78) (172852,)\n"
     ]
    }
   ],
   "source": [
    "print(x_train.shape, y_train.shape, x_test.shape, y_test.shape)"
   ]
  },
  {
   "cell_type": "code",
   "execution_count": 34,
   "metadata": {},
   "outputs": [],
   "source": [
    "from sklearn.svm import SVC\n",
    "from sklearn.metrics import classification_report,confusion_matrix,accuracy_score"
   ]
  },
  {
   "cell_type": "code",
   "execution_count": 35,
   "metadata": {},
   "outputs": [],
   "source": [
    "model_svm = SVC()"
   ]
  },
  {
   "cell_type": "code",
   "execution_count": 36,
   "metadata": {},
   "outputs": [
    {
     "data": {
      "text/plain": [
       "SVC(C=1.0, break_ties=False, cache_size=200, class_weight=None, coef0=0.0,\n",
       "    decision_function_shape='ovr', degree=3, gamma='scale', kernel='rbf',\n",
       "    max_iter=-1, probability=False, random_state=None, shrinking=True,\n",
       "    tol=0.001, verbose=False)"
      ]
     },
     "execution_count": 36,
     "metadata": {},
     "output_type": "execute_result"
    }
   ],
   "source": [
    "model_svm.fit(x_train, y_train)"
   ]
  },
  {
   "cell_type": "code",
   "execution_count": 37,
   "metadata": {},
   "outputs": [],
   "source": [
    "predictions_svm = model_svm.predict(x_test)"
   ]
  },
  {
   "cell_type": "code",
   "execution_count": 38,
   "metadata": {},
   "outputs": [
    {
     "name": "stdout",
     "output_type": "stream",
     "text": [
      "Overall accuracy of SVM model using test-set is : 93.307569\n"
     ]
    }
   ],
   "source": [
    "acc_svm = accuracy_score(y_true=y_test, y_pred= predictions_svm)\n",
    "print(\"Overall accuracy of SVM model using test-set is : %f\" %(acc_svm*100))"
   ]
  },
  {
   "cell_type": "code",
   "execution_count": 39,
   "metadata": {},
   "outputs": [
    {
     "name": "stdout",
     "output_type": "stream",
     "text": [
      "              precision    recall  f1-score   support\n",
      "\n",
      "           0       0.96      0.86      0.91     57612\n",
      "           1       0.92      0.98      0.95    109866\n",
      "           2       0.94      0.76      0.84      1378\n",
      "           3       0.98      0.85      0.91      2550\n",
      "           4       0.78      0.51      0.61      1444\n",
      "           5       0.00      0.00      0.00         2\n",
      "\n",
      "    accuracy                           0.93    172852\n",
      "   macro avg       0.76      0.66      0.70    172852\n",
      "weighted avg       0.93      0.93      0.93    172852\n",
      "\n"
     ]
    }
   ],
   "source": [
    "print(classification_report(y_test,predictions_svm))"
   ]
  },
  {
   "cell_type": "code",
   "execution_count": 40,
   "metadata": {},
   "outputs": [],
   "source": [
    "import pickle\n",
    "filename='model/svm_model.sav'\n",
    "pickle.dump(model_svm,open(filename, 'wb'))"
   ]
  },
  {
   "cell_type": "code",
   "execution_count": 41,
   "metadata": {},
   "outputs": [],
   "source": [
    "# print(confusion_matrix(y_test,predictions_svm))"
   ]
  },
  {
   "cell_type": "code",
   "execution_count": 42,
   "metadata": {},
   "outputs": [],
   "source": [
    "def plot_confusion_matrix(cm, classes,title='Confusion matrix'):\n",
    "    plt.figure(figsize=(10,5))\n",
    "    plt.imshow(cm, interpolation='nearest', cmap='YlGnBu')\n",
    "    plt.title(title)\n",
    "    plt.colorbar()\n",
    "    tick_marks = np.arange(len(classes))\n",
    "    plt.xticks(tick_marks, classes, rotation=45)\n",
    "    plt.yticks(tick_marks, classes)\n",
    "    \n",
    "    \n",
    "    fmt = 'd'\n",
    "    thresh = cm.max() / 2.\n",
    "    for i, j in itertools.product(range(cm.shape[0]), range(cm.shape[1])):\n",
    "        plt.text(j, i, format(cm[i, j], fmt),\n",
    "                 horizontalalignment=\"center\",\n",
    "                 color=\"white\" if cm[i, j] > thresh else \"black\")\n",
    "\n",
    "    plt.ylabel('True label')\n",
    "    plt.xlabel('Predicted label')\n",
    "    plt.tight_layout()\n",
    "    plt.show()"
   ]
  },
  {
   "cell_type": "code",
   "execution_count": 43,
   "metadata": {},
   "outputs": [
    {
     "data": {
      "image/png": "[encoded data removed]",
      "text/plain": [
       "<Figure size 720x360 with 2 Axes>"
      ]
     },
     "metadata": {
      "needs_background": "light"
     },
     "output_type": "display_data"
    }
   ],
   "source": [
    "labels = [\n",
    "    'BENIGN',\n",
    "    'DoS slowloris',\n",
    "    'DoS Slowhttptest',\n",
    "    'DoS Hulk',\n",
    "    'DoS GoldenEye',\n",
    "    'Heartbleed'\n",
    "]\n",
    "\n",
    "cm = confusion_matrix(y_pred=predictions_svm, y_true=y_test)\n",
    "plot_confusion_matrix(cm,classes=labels)"
   ]
  },
  {
   "cell_type": "markdown",
   "metadata": {},
   "source": [
    "# Thank You"
   ]
  },
  {
   "cell_type": "code",
   "execution_count": null,
   "metadata": {},
   "outputs": [],
   "source": []
  }
 ],
 "metadata": {
  "kernelspec": {
   "display_name": "Python 3",
   "language": "python",
   "name": "python3"
  },
  "language_info": {
   "codemirror_mode": {
    "name": "ipython",
    "version": 3
   },
   "file_extension": ".py",
   "mimetype": "text/x-python",
   "name": "python",
   "nbconvert_exporter": "python",
   "pygments_lexer": "ipython3",
   "version": "3.7.4"
  }
 },
 "nbformat": 4,
 "nbformat_minor": 2
}
