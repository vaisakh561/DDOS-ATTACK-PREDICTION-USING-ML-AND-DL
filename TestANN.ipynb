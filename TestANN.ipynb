{
 "cells": [
  {
   "cell_type": "code",
   "execution_count": 1,
   "metadata": {},
   "outputs": [
    {
     "name": "stderr",
     "output_type": "stream",
     "text": [
      "Using TensorFlow backend.\n"
     ]
    }
   ],
   "source": [
    "import os\n",
    "import pandas as pd\n",
    "from keras.models import model_from_json\n",
    "from pathlib import Path\n",
    "import numpy as np"
   ]
  },
  {
   "cell_type": "code",
   "execution_count": 2,
   "metadata": {},
   "outputs": [],
   "source": [
    "input_dir = 'input'\n",
    "model_dir = 'model'\n",
    "model_str_file = 'model_structure.json'\n",
    "model_weights_file = 'model_weights.h5'"
   ]
  },
  {
   "cell_type": "code",
   "execution_count": 3,
   "metadata": {},
   "outputs": [
    {
     "name": "stdout",
     "output_type": "stream",
     "text": [
      "['BENIGN', 'DoS slowloris', 'DoS Slowhttptest', 'DoS Hulk', 'DoS GoldenEye', 'Heartbleed']\n"
     ]
    }
   ],
   "source": [
    "class_names = [\n",
    "    'BENIGN',\n",
    "    'DoS slowloris',\n",
    "    'DoS Slowhttptest',\n",
    "    'DoS Hulk',\n",
    "    'DoS GoldenEye',\n",
    "    'Heartbleed']\n",
    "print(class_names)"
   ]
  },
  {
   "cell_type": "code",
   "execution_count": 4,
   "metadata": {},
   "outputs": [],
   "source": [
    "def load_trained_model(model_str_path, model_wt_path):\n",
    "    f = Path(model_str_path)\n",
    "    model_structure = f.read_text()\n",
    "    trained_model = model_from_json(model_structure)\n",
    "    trained_model.load_weights(model_wt_path)\n",
    "    return trained_model"
   ]
  },
  {
   "cell_type": "code",
   "execution_count": 5,
   "metadata": {},
   "outputs": [],
   "source": [
    "str_path = os.path.join(model_dir,model_str_file)\n",
    "wt_path = os.path.join(model_dir,model_weights_file)"
   ]
  },
  {
   "cell_type": "code",
   "execution_count": 6,
   "metadata": {},
   "outputs": [],
   "source": [
    "trained_model = load_trained_model(str_path, wt_path)"
   ]
  },
  {
   "cell_type": "code",
   "execution_count": 7,
   "metadata": {},
   "outputs": [
    {
     "name": "stdout",
     "output_type": "stream",
     "text": [
      "Model: \"sequential_1\"\n",
      "_________________________________________________________________\n",
      "Layer (type)                 Output Shape              Param #   \n",
      "=================================================================\n",
      "dense_1 (Dense)              (None, 64)                5056      \n",
      "_________________________________________________________________\n",
      "dense_2 (Dense)              (None, 64)                4160      \n",
      "_________________________________________________________________\n",
      "dropout_1 (Dropout)          (None, 64)                0         \n",
      "_________________________________________________________________\n",
      "dense_3 (Dense)              (None, 32)                2080      \n",
      "_________________________________________________________________\n",
      "dropout_2 (Dropout)          (None, 32)                0         \n",
      "_________________________________________________________________\n",
      "dense_4 (Dense)              (None, 16)                528       \n",
      "_________________________________________________________________\n",
      "dense_5 (Dense)              (None, 6)                 102       \n",
      "=================================================================\n",
      "Total params: 11,926\n",
      "Trainable params: 11,926\n",
      "Non-trainable params: 0\n",
      "_________________________________________________________________\n"
     ]
    }
   ],
   "source": [
    "trained_model.summary()"
   ]
  },
  {
   "cell_type": "code",
   "execution_count": 8,
   "metadata": {},
   "outputs": [],
   "source": [
    "test_data = pd.read_csv('test_sample/test_data.csv')"
   ]
  },
  {
   "cell_type": "code",
   "execution_count": 9,
   "metadata": {},
   "outputs": [
    {
     "data": {
      "text/html": [
       "<div>\n",
       "<style scoped>\n",
       "    .dataframe tbody tr th:only-of-type {\n",
       "        vertical-align: middle;\n",
       "    }\n",
       "\n",
       "    .dataframe tbody tr th {\n",
       "        vertical-align: top;\n",
       "    }\n",
       "\n",
       "    .dataframe thead th {\n",
       "        text-align: right;\n",
       "    }\n",
       "</style>\n",
       "<table border=\"1\" class=\"dataframe\">\n",
       "  <thead>\n",
       "    <tr style=\"text-align: right;\">\n",
       "      <th></th>\n",
       "      <th>Destination_Port</th>\n",
       "      <th>Flow_Duration</th>\n",
       "      <th>Total_Fwd_Packets</th>\n",
       "      <th>Total_Backward_Packets</th>\n",
       "      <th>Total_Length_of_Fwd_Packets</th>\n",
       "      <th>Total_Length_of_Bwd_Packets</th>\n",
       "      <th>Fwd_Packet_Length_Max</th>\n",
       "      <th>Fwd_Packet_Length_Min</th>\n",
       "      <th>Fwd_Packet_Length_Mean</th>\n",
       "      <th>Fwd_Packet_Length_Std</th>\n",
       "      <th>...</th>\n",
       "      <th>act_data_pkt_fwd</th>\n",
       "      <th>min_seg_size_forward</th>\n",
       "      <th>Active_Mean</th>\n",
       "      <th>Active_Std</th>\n",
       "      <th>Active_Max</th>\n",
       "      <th>Active_Min</th>\n",
       "      <th>Idle_Mean</th>\n",
       "      <th>Idle_Std</th>\n",
       "      <th>Idle_Max</th>\n",
       "      <th>Idle_Min</th>\n",
       "    </tr>\n",
       "  </thead>\n",
       "  <tbody>\n",
       "    <tr>\n",
       "      <td>0</td>\n",
       "      <td>443</td>\n",
       "      <td>27498</td>\n",
       "      <td>1</td>\n",
       "      <td>1</td>\n",
       "      <td>0</td>\n",
       "      <td>0</td>\n",
       "      <td>0</td>\n",
       "      <td>0</td>\n",
       "      <td>0.000000</td>\n",
       "      <td>0.000000</td>\n",
       "      <td>...</td>\n",
       "      <td>0</td>\n",
       "      <td>32</td>\n",
       "      <td>0.0000</td>\n",
       "      <td>0.0000</td>\n",
       "      <td>0</td>\n",
       "      <td>0</td>\n",
       "      <td>0.000000e+00</td>\n",
       "      <td>0.00000</td>\n",
       "      <td>0</td>\n",
       "      <td>0</td>\n",
       "    </tr>\n",
       "    <tr>\n",
       "      <td>1</td>\n",
       "      <td>389</td>\n",
       "      <td>108</td>\n",
       "      <td>2</td>\n",
       "      <td>2</td>\n",
       "      <td>104</td>\n",
       "      <td>178</td>\n",
       "      <td>52</td>\n",
       "      <td>52</td>\n",
       "      <td>52.000000</td>\n",
       "      <td>0.000000</td>\n",
       "      <td>...</td>\n",
       "      <td>1</td>\n",
       "      <td>20</td>\n",
       "      <td>0.0000</td>\n",
       "      <td>0.0000</td>\n",
       "      <td>0</td>\n",
       "      <td>0</td>\n",
       "      <td>0.000000e+00</td>\n",
       "      <td>0.00000</td>\n",
       "      <td>0</td>\n",
       "      <td>0</td>\n",
       "    </tr>\n",
       "    <tr>\n",
       "      <td>2</td>\n",
       "      <td>80</td>\n",
       "      <td>101112634</td>\n",
       "      <td>5</td>\n",
       "      <td>6</td>\n",
       "      <td>322</td>\n",
       "      <td>11595</td>\n",
       "      <td>310</td>\n",
       "      <td>0</td>\n",
       "      <td>64.400000</td>\n",
       "      <td>137.327346</td>\n",
       "      <td>...</td>\n",
       "      <td>2</td>\n",
       "      <td>20</td>\n",
       "      <td>10000.0000</td>\n",
       "      <td>0.0000</td>\n",
       "      <td>10000</td>\n",
       "      <td>10000</td>\n",
       "      <td>1.010000e+08</td>\n",
       "      <td>0.00000</td>\n",
       "      <td>101000000</td>\n",
       "      <td>101000000</td>\n",
       "    </tr>\n",
       "    <tr>\n",
       "      <td>3</td>\n",
       "      <td>53313</td>\n",
       "      <td>129</td>\n",
       "      <td>1</td>\n",
       "      <td>1</td>\n",
       "      <td>6</td>\n",
       "      <td>6</td>\n",
       "      <td>6</td>\n",
       "      <td>6</td>\n",
       "      <td>6.000000</td>\n",
       "      <td>0.000000</td>\n",
       "      <td>...</td>\n",
       "      <td>0</td>\n",
       "      <td>20</td>\n",
       "      <td>0.0000</td>\n",
       "      <td>0.0000</td>\n",
       "      <td>0</td>\n",
       "      <td>0</td>\n",
       "      <td>0.000000e+00</td>\n",
       "      <td>0.00000</td>\n",
       "      <td>0</td>\n",
       "      <td>0</td>\n",
       "    </tr>\n",
       "    <tr>\n",
       "      <td>4</td>\n",
       "      <td>80</td>\n",
       "      <td>948</td>\n",
       "      <td>6</td>\n",
       "      <td>0</td>\n",
       "      <td>6</td>\n",
       "      <td>0</td>\n",
       "      <td>6</td>\n",
       "      <td>0</td>\n",
       "      <td>1.000000</td>\n",
       "      <td>2.449490</td>\n",
       "      <td>...</td>\n",
       "      <td>1</td>\n",
       "      <td>20</td>\n",
       "      <td>0.0000</td>\n",
       "      <td>0.0000</td>\n",
       "      <td>0</td>\n",
       "      <td>0</td>\n",
       "      <td>0.000000e+00</td>\n",
       "      <td>0.00000</td>\n",
       "      <td>0</td>\n",
       "      <td>0</td>\n",
       "    </tr>\n",
       "    <tr>\n",
       "      <td>5</td>\n",
       "      <td>53</td>\n",
       "      <td>177</td>\n",
       "      <td>2</td>\n",
       "      <td>2</td>\n",
       "      <td>88</td>\n",
       "      <td>120</td>\n",
       "      <td>44</td>\n",
       "      <td>44</td>\n",
       "      <td>44.000000</td>\n",
       "      <td>0.000000</td>\n",
       "      <td>...</td>\n",
       "      <td>1</td>\n",
       "      <td>32</td>\n",
       "      <td>0.0000</td>\n",
       "      <td>0.0000</td>\n",
       "      <td>0</td>\n",
       "      <td>0</td>\n",
       "      <td>0.000000e+00</td>\n",
       "      <td>0.00000</td>\n",
       "      <td>0</td>\n",
       "      <td>0</td>\n",
       "    </tr>\n",
       "    <tr>\n",
       "      <td>6</td>\n",
       "      <td>14084</td>\n",
       "      <td>12</td>\n",
       "      <td>1</td>\n",
       "      <td>1</td>\n",
       "      <td>6</td>\n",
       "      <td>6</td>\n",
       "      <td>6</td>\n",
       "      <td>6</td>\n",
       "      <td>6.000000</td>\n",
       "      <td>0.000000</td>\n",
       "      <td>...</td>\n",
       "      <td>0</td>\n",
       "      <td>20</td>\n",
       "      <td>0.0000</td>\n",
       "      <td>0.0000</td>\n",
       "      <td>0</td>\n",
       "      <td>0</td>\n",
       "      <td>0.000000e+00</td>\n",
       "      <td>0.00000</td>\n",
       "      <td>0</td>\n",
       "      <td>0</td>\n",
       "    </tr>\n",
       "    <tr>\n",
       "      <td>7</td>\n",
       "      <td>53</td>\n",
       "      <td>175585</td>\n",
       "      <td>4</td>\n",
       "      <td>2</td>\n",
       "      <td>120</td>\n",
       "      <td>196</td>\n",
       "      <td>30</td>\n",
       "      <td>30</td>\n",
       "      <td>30.000000</td>\n",
       "      <td>0.000000</td>\n",
       "      <td>...</td>\n",
       "      <td>3</td>\n",
       "      <td>20</td>\n",
       "      <td>0.0000</td>\n",
       "      <td>0.0000</td>\n",
       "      <td>0</td>\n",
       "      <td>0</td>\n",
       "      <td>0.000000e+00</td>\n",
       "      <td>0.00000</td>\n",
       "      <td>0</td>\n",
       "      <td>0</td>\n",
       "    </tr>\n",
       "    <tr>\n",
       "      <td>8</td>\n",
       "      <td>53</td>\n",
       "      <td>118376</td>\n",
       "      <td>2</td>\n",
       "      <td>2</td>\n",
       "      <td>64</td>\n",
       "      <td>184</td>\n",
       "      <td>32</td>\n",
       "      <td>32</td>\n",
       "      <td>32.000000</td>\n",
       "      <td>0.000000</td>\n",
       "      <td>...</td>\n",
       "      <td>1</td>\n",
       "      <td>20</td>\n",
       "      <td>0.0000</td>\n",
       "      <td>0.0000</td>\n",
       "      <td>0</td>\n",
       "      <td>0</td>\n",
       "      <td>0.000000e+00</td>\n",
       "      <td>0.00000</td>\n",
       "      <td>0</td>\n",
       "      <td>0</td>\n",
       "    </tr>\n",
       "    <tr>\n",
       "      <td>9</td>\n",
       "      <td>80</td>\n",
       "      <td>116196064</td>\n",
       "      <td>19</td>\n",
       "      <td>16</td>\n",
       "      <td>1395</td>\n",
       "      <td>2394</td>\n",
       "      <td>435</td>\n",
       "      <td>0</td>\n",
       "      <td>73.421053</td>\n",
       "      <td>160.864441</td>\n",
       "      <td>...</td>\n",
       "      <td>18</td>\n",
       "      <td>20</td>\n",
       "      <td>125148.9091</td>\n",
       "      <td>336416.5681</td>\n",
       "      <td>1139483</td>\n",
       "      <td>23566</td>\n",
       "      <td>9.979133e+06</td>\n",
       "      <td>59209.94153</td>\n",
       "      <td>9997834</td>\n",
       "      <td>9800615</td>\n",
       "    </tr>\n",
       "  </tbody>\n",
       "</table>\n",
       "<p>10 rows × 78 columns</p>\n",
       "</div>"
      ],
      "text/plain": [
       "   Destination_Port  Flow_Duration  Total_Fwd_Packets  Total_Backward_Packets  \\\n",
       "0               443          27498                  1                       1   \n",
       "1               389            108                  2                       2   \n",
       "2                80      101112634                  5                       6   \n",
       "3             53313            129                  1                       1   \n",
       "4                80            948                  6                       0   \n",
       "5                53            177                  2                       2   \n",
       "6             14084             12                  1                       1   \n",
       "7                53         175585                  4                       2   \n",
       "8                53         118376                  2                       2   \n",
       "9                80      116196064                 19                      16   \n",
       "\n",
       "   Total_Length_of_Fwd_Packets  Total_Length_of_Bwd_Packets  \\\n",
       "0                            0                            0   \n",
       "1                          104                          178   \n",
       "2                          322                        11595   \n",
       "3                            6                            6   \n",
       "4                            6                            0   \n",
       "5                           88                          120   \n",
       "6                            6                            6   \n",
       "7                          120                          196   \n",
       "8                           64                          184   \n",
       "9                         1395                         2394   \n",
       "\n",
       "   Fwd_Packet_Length_Max  Fwd_Packet_Length_Min  Fwd_Packet_Length_Mean  \\\n",
       "0                      0                      0                0.000000   \n",
       "1                     52                     52               52.000000   \n",
       "2                    310                      0               64.400000   \n",
       "3                      6                      6                6.000000   \n",
       "4                      6                      0                1.000000   \n",
       "5                     44                     44               44.000000   \n",
       "6                      6                      6                6.000000   \n",
       "7                     30                     30               30.000000   \n",
       "8                     32                     32               32.000000   \n",
       "9                    435                      0               73.421053   \n",
       "\n",
       "   Fwd_Packet_Length_Std  ...  act_data_pkt_fwd  min_seg_size_forward  \\\n",
       "0               0.000000  ...                 0                    32   \n",
       "1               0.000000  ...                 1                    20   \n",
       "2             137.327346  ...                 2                    20   \n",
       "3               0.000000  ...                 0                    20   \n",
       "4               2.449490  ...                 1                    20   \n",
       "5               0.000000  ...                 1                    32   \n",
       "6               0.000000  ...                 0                    20   \n",
       "7               0.000000  ...                 3                    20   \n",
       "8               0.000000  ...                 1                    20   \n",
       "9             160.864441  ...                18                    20   \n",
       "\n",
       "   Active_Mean   Active_Std  Active_Max  Active_Min     Idle_Mean  \\\n",
       "0       0.0000       0.0000           0           0  0.000000e+00   \n",
       "1       0.0000       0.0000           0           0  0.000000e+00   \n",
       "2   10000.0000       0.0000       10000       10000  1.010000e+08   \n",
       "3       0.0000       0.0000           0           0  0.000000e+00   \n",
       "4       0.0000       0.0000           0           0  0.000000e+00   \n",
       "5       0.0000       0.0000           0           0  0.000000e+00   \n",
       "6       0.0000       0.0000           0           0  0.000000e+00   \n",
       "7       0.0000       0.0000           0           0  0.000000e+00   \n",
       "8       0.0000       0.0000           0           0  0.000000e+00   \n",
       "9  125148.9091  336416.5681     1139483       23566  9.979133e+06   \n",
       "\n",
       "      Idle_Std   Idle_Max   Idle_Min  \n",
       "0      0.00000          0          0  \n",
       "1      0.00000          0          0  \n",
       "2      0.00000  101000000  101000000  \n",
       "3      0.00000          0          0  \n",
       "4      0.00000          0          0  \n",
       "5      0.00000          0          0  \n",
       "6      0.00000          0          0  \n",
       "7      0.00000          0          0  \n",
       "8      0.00000          0          0  \n",
       "9  59209.94153    9997834    9800615  \n",
       "\n",
       "[10 rows x 78 columns]"
      ]
     },
     "execution_count": 9,
     "metadata": {},
     "output_type": "execute_result"
    }
   ],
   "source": [
    "test_data.head(10)"
   ]
  },
  {
   "cell_type": "code",
   "execution_count": 10,
   "metadata": {},
   "outputs": [
    {
     "data": {
      "text/plain": [
       "(1001, 78)"
      ]
     },
     "execution_count": 10,
     "metadata": {},
     "output_type": "execute_result"
    }
   ],
   "source": [
    "test_data.shape"
   ]
  },
  {
   "cell_type": "code",
   "execution_count": 11,
   "metadata": {},
   "outputs": [
    {
     "name": "stdout",
     "output_type": "stream",
     "text": [
      "(1001, 78)\n"
     ]
    }
   ],
   "source": [
    "input_data = test_data\n",
    "print(input_data.shape)"
   ]
  },
  {
   "cell_type": "code",
   "execution_count": 12,
   "metadata": {},
   "outputs": [
    {
     "name": "stdout",
     "output_type": "stream",
     "text": [
      "Selected test data is :\n",
      " Destination_Port                  53.0\n",
      "Flow_Duration                  30965.0\n",
      "Total_Fwd_Packets                  1.0\n",
      "Total_Backward_Packets             1.0\n",
      "Total_Length_of_Fwd_Packets       56.0\n",
      "                                ...   \n",
      "Active_Min                         0.0\n",
      "Idle_Mean                          0.0\n",
      "Idle_Std                           0.0\n",
      "Idle_Max                           0.0\n",
      "Idle_Min                           0.0\n",
      "Name: 13, Length: 78, dtype: float64\n",
      "(1, 78)\n"
     ]
    }
   ],
   "source": [
    "input_data = test_data.iloc[1]\n",
    "print('Selected test data is :\\n',format(input_data))\n",
    "input_data = np.expand_dims(input_data, axis=0)\n",
    "print(input_data.shape)"
   ]
  },
  {
   "cell_type": "code",
   "execution_count": 13,
   "metadata": {},
   "outputs": [],
   "source": [
    "def predict_result(data, model):\n",
    "    result = model.predict_classes(data)\n",
    "    return result"
   ]
  },
  {
   "cell_type": "markdown",
   "metadata": {},
   "source": [
    "# This code for ML Alg"
   ]
  },
  {
   "cell_type": "code",
   "execution_count": null,
   "metadata": {},
   "outputs": [],
   "source": [
    "# import pickle\n",
    "# filename='model/svm_model.sav'\n",
    "\n",
    "# model = pickle.load(open(filename,'rb'))\n",
    "\n",
    "# y_pred = model.predict(data)\n",
    "\n",
    "# y_pred"
   ]
  },
  {
   "cell_type": "code",
   "execution_count": 14,
   "metadata": {},
   "outputs": [
    {
     "name": "stdout",
     "output_type": "stream",
     "text": [
      "WARNING:tensorflow:From C:\\Users\\Dell\\Anaconda3\\Lib\\site-packages\\keras\\backend\\tensorflow_backend.py:422: The name tf.global_variables is deprecated. Please use tf.compat.v1.global_variables instead.\n",
      "\n",
      "Predicted results for given input is :  [1]\n"
     ]
    }
   ],
   "source": [
    "results = predict_result(data=input_data, model= trained_model)\n",
    "print('Predicted results for given input is : ',results)"
   ]
  },
  {
   "cell_type": "code",
   "execution_count": 15,
   "metadata": {
    "scrolled": false
   },
   "outputs": [
    {
     "name": "stdout",
     "output_type": "stream",
     "text": [
      "DoS slowloris\n"
     ]
    }
   ],
   "source": [
    "for res in results:\n",
    "    print(class_names[res])"
   ]
  },
  {
   "cell_type": "markdown",
   "metadata": {},
   "source": [
    "# !!! Thank You !!! ##"
   ]
  }
 ],
 "metadata": {
  "kernelspec": {
   "display_name": "Python 3",
   "language": "python",
   "name": "python3"
  },
  "language_info": {
   "codemirror_mode": {
    "name": "ipython",
    "version": 3
   },
   "file_extension": ".py",
   "mimetype": "text/x-python",
   "name": "python",
   "nbconvert_exporter": "python",
   "pygments_lexer": "ipython3",
   "version": "3.7.4"
  }
 },
 "nbformat": 4,
 "nbformat_minor": 2
}
